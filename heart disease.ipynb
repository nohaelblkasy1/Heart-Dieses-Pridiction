{
 "cells": [
  {
   "cell_type": "markdown",
   "id": "5e7e24e9",
   "metadata": {},
   "source": [
    "# Import Nessecarry Libraries"
   ]
  },
  {
   "cell_type": "code",
   "execution_count": 1,
   "id": "d0c6d3a1",
   "metadata": {
    "_cell_guid": "b1076dfc-b9ad-4769-8c92-a6c4dae69d19",
    "_uuid": "8f2839f25d086af736a60e9eeb907d3b93b6e0e5",
    "execution": {
     "iopub.execute_input": "2024-10-20T10:58:12.631906Z",
     "iopub.status.busy": "2024-10-20T10:58:12.631417Z",
     "iopub.status.idle": "2024-10-20T10:58:30.643710Z",
     "shell.execute_reply": "2024-10-20T10:58:30.642162Z"
    },
    "papermill": {
     "duration": 18.031607,
     "end_time": "2024-10-20T10:58:30.647288",
     "exception": false,
     "start_time": "2024-10-20T10:58:12.615681",
     "status": "completed"
    },
    "tags": []
   },
   "outputs": [],
   "source": [
    "import numpy as np\n",
    "import pandas as pd \n",
    "import matplotlib.pyplot as plt\n",
    "import seaborn as sns"
   ]
  },
  {
   "cell_type": "markdown",
   "id": "1032c515",
   "metadata": {},
   "source": [
    "# Read The Data"
   ]
  },
  {
   "cell_type": "code",
   "execution_count": 2,
   "id": "a5f7f841",
   "metadata": {
    "execution": {
     "iopub.execute_input": "2024-10-20T10:58:30.740906Z",
     "iopub.status.busy": "2024-10-20T10:58:30.739695Z",
     "iopub.status.idle": "2024-10-20T10:58:30.772416Z",
     "shell.execute_reply": "2024-10-20T10:58:30.770817Z"
    },
    "papermill": {
     "duration": 0.050149,
     "end_time": "2024-10-20T10:58:30.775321",
     "exception": false,
     "start_time": "2024-10-20T10:58:30.725172",
     "status": "completed"
    },
    "tags": []
   },
   "outputs": [],
   "source": [
    "df = pd.read_csv(\"heart.csv\")"
   ]
  },
  {
   "cell_type": "markdown",
   "id": "8f346d13",
   "metadata": {},
   "source": [
    "# check length"
   ]
  },
  {
   "cell_type": "code",
   "execution_count": 3,
   "id": "4a9384a1",
   "metadata": {
    "execution": {
     "iopub.execute_input": "2024-10-20T10:58:30.803536Z",
     "iopub.status.busy": "2024-10-20T10:58:30.802715Z",
     "iopub.status.idle": "2024-10-20T10:58:30.808777Z",
     "shell.execute_reply": "2024-10-20T10:58:30.807650Z"
    },
    "papermill": {
     "duration": 0.022993,
     "end_time": "2024-10-20T10:58:30.811436",
     "exception": false,
     "start_time": "2024-10-20T10:58:30.788443",
     "status": "completed"
    },
    "tags": []
   },
   "outputs": [
    {
     "name": "stdout",
     "output_type": "stream",
     "text": [
      "Dataset length: 920\n"
     ]
    }
   ],
   "source": [
    "print(\"Dataset length:\", len(df))"
   ]
  },
  {
   "cell_type": "markdown",
   "id": "625c5a8a",
   "metadata": {},
   "source": [
    "# Display Sample Of Data"
   ]
  },
  {
   "cell_type": "code",
   "execution_count": 4,
   "id": "d698f3ac",
   "metadata": {
    "execution": {
     "iopub.execute_input": "2024-10-20T10:58:30.839200Z",
     "iopub.status.busy": "2024-10-20T10:58:30.838706Z",
     "iopub.status.idle": "2024-10-20T10:58:30.873826Z",
     "shell.execute_reply": "2024-10-20T10:58:30.872670Z"
    },
    "papermill": {
     "duration": 0.052135,
     "end_time": "2024-10-20T10:58:30.876543",
     "exception": false,
     "start_time": "2024-10-20T10:58:30.824408",
     "status": "completed"
    },
    "tags": []
   },
   "outputs": [
    {
     "data": {
      "text/html": [
       "<div>\n",
       "<style scoped>\n",
       "    .dataframe tbody tr th:only-of-type {\n",
       "        vertical-align: middle;\n",
       "    }\n",
       "\n",
       "    .dataframe tbody tr th {\n",
       "        vertical-align: top;\n",
       "    }\n",
       "\n",
       "    .dataframe thead th {\n",
       "        text-align: right;\n",
       "    }\n",
       "</style>\n",
       "<table border=\"1\" class=\"dataframe\">\n",
       "  <thead>\n",
       "    <tr style=\"text-align: right;\">\n",
       "      <th></th>\n",
       "      <th>id</th>\n",
       "      <th>age</th>\n",
       "      <th>sex</th>\n",
       "      <th>dataset</th>\n",
       "      <th>cp</th>\n",
       "      <th>trestbps</th>\n",
       "      <th>chol</th>\n",
       "      <th>fbs</th>\n",
       "      <th>restecg</th>\n",
       "      <th>thalch</th>\n",
       "      <th>exang</th>\n",
       "      <th>oldpeak</th>\n",
       "      <th>slope</th>\n",
       "      <th>ca</th>\n",
       "      <th>thal</th>\n",
       "      <th>num</th>\n",
       "    </tr>\n",
       "  </thead>\n",
       "  <tbody>\n",
       "    <tr>\n",
       "      <th>0</th>\n",
       "      <td>1</td>\n",
       "      <td>63</td>\n",
       "      <td>Male</td>\n",
       "      <td>Cleveland</td>\n",
       "      <td>typical angina</td>\n",
       "      <td>145.0</td>\n",
       "      <td>233.0</td>\n",
       "      <td>True</td>\n",
       "      <td>lv hypertrophy</td>\n",
       "      <td>150.0</td>\n",
       "      <td>False</td>\n",
       "      <td>2.3</td>\n",
       "      <td>downsloping</td>\n",
       "      <td>0.0</td>\n",
       "      <td>fixed defect</td>\n",
       "      <td>0</td>\n",
       "    </tr>\n",
       "    <tr>\n",
       "      <th>1</th>\n",
       "      <td>2</td>\n",
       "      <td>67</td>\n",
       "      <td>Male</td>\n",
       "      <td>Cleveland</td>\n",
       "      <td>asymptomatic</td>\n",
       "      <td>160.0</td>\n",
       "      <td>286.0</td>\n",
       "      <td>False</td>\n",
       "      <td>lv hypertrophy</td>\n",
       "      <td>108.0</td>\n",
       "      <td>True</td>\n",
       "      <td>1.5</td>\n",
       "      <td>flat</td>\n",
       "      <td>3.0</td>\n",
       "      <td>normal</td>\n",
       "      <td>2</td>\n",
       "    </tr>\n",
       "    <tr>\n",
       "      <th>2</th>\n",
       "      <td>3</td>\n",
       "      <td>67</td>\n",
       "      <td>Male</td>\n",
       "      <td>Cleveland</td>\n",
       "      <td>asymptomatic</td>\n",
       "      <td>120.0</td>\n",
       "      <td>229.0</td>\n",
       "      <td>False</td>\n",
       "      <td>lv hypertrophy</td>\n",
       "      <td>129.0</td>\n",
       "      <td>True</td>\n",
       "      <td>2.6</td>\n",
       "      <td>flat</td>\n",
       "      <td>2.0</td>\n",
       "      <td>reversable defect</td>\n",
       "      <td>1</td>\n",
       "    </tr>\n",
       "    <tr>\n",
       "      <th>3</th>\n",
       "      <td>4</td>\n",
       "      <td>37</td>\n",
       "      <td>Male</td>\n",
       "      <td>Cleveland</td>\n",
       "      <td>non-anginal</td>\n",
       "      <td>130.0</td>\n",
       "      <td>250.0</td>\n",
       "      <td>False</td>\n",
       "      <td>normal</td>\n",
       "      <td>187.0</td>\n",
       "      <td>False</td>\n",
       "      <td>3.5</td>\n",
       "      <td>downsloping</td>\n",
       "      <td>0.0</td>\n",
       "      <td>normal</td>\n",
       "      <td>0</td>\n",
       "    </tr>\n",
       "    <tr>\n",
       "      <th>4</th>\n",
       "      <td>5</td>\n",
       "      <td>41</td>\n",
       "      <td>Female</td>\n",
       "      <td>Cleveland</td>\n",
       "      <td>atypical angina</td>\n",
       "      <td>130.0</td>\n",
       "      <td>204.0</td>\n",
       "      <td>False</td>\n",
       "      <td>lv hypertrophy</td>\n",
       "      <td>172.0</td>\n",
       "      <td>False</td>\n",
       "      <td>1.4</td>\n",
       "      <td>upsloping</td>\n",
       "      <td>0.0</td>\n",
       "      <td>normal</td>\n",
       "      <td>0</td>\n",
       "    </tr>\n",
       "  </tbody>\n",
       "</table>\n",
       "</div>"
      ],
      "text/plain": [
       "   id  age     sex    dataset               cp  trestbps   chol    fbs  \\\n",
       "0   1   63    Male  Cleveland   typical angina     145.0  233.0   True   \n",
       "1   2   67    Male  Cleveland     asymptomatic     160.0  286.0  False   \n",
       "2   3   67    Male  Cleveland     asymptomatic     120.0  229.0  False   \n",
       "3   4   37    Male  Cleveland      non-anginal     130.0  250.0  False   \n",
       "4   5   41  Female  Cleveland  atypical angina     130.0  204.0  False   \n",
       "\n",
       "          restecg  thalch  exang  oldpeak        slope   ca  \\\n",
       "0  lv hypertrophy   150.0  False      2.3  downsloping  0.0   \n",
       "1  lv hypertrophy   108.0   True      1.5         flat  3.0   \n",
       "2  lv hypertrophy   129.0   True      2.6         flat  2.0   \n",
       "3          normal   187.0  False      3.5  downsloping  0.0   \n",
       "4  lv hypertrophy   172.0  False      1.4    upsloping  0.0   \n",
       "\n",
       "                thal  num  \n",
       "0       fixed defect    0  \n",
       "1             normal    2  \n",
       "2  reversable defect    1  \n",
       "3             normal    0  \n",
       "4             normal    0  "
      ]
     },
     "execution_count": 4,
     "metadata": {},
     "output_type": "execute_result"
    }
   ],
   "source": [
    "df.head()"
   ]
  },
  {
   "cell_type": "markdown",
   "id": "cde0eea6",
   "metadata": {},
   "source": [
    "# Plot the distribution of the target variable 'num'"
   ]
  },
  {
   "cell_type": "code",
   "execution_count": 5,
   "id": "808dda3c",
   "metadata": {
    "execution": {
     "iopub.execute_input": "2024-10-20T10:58:30.905124Z",
     "iopub.status.busy": "2024-10-20T10:58:30.904171Z",
     "iopub.status.idle": "2024-10-20T10:58:31.166411Z",
     "shell.execute_reply": "2024-10-20T10:58:31.164871Z"
    },
    "papermill": {
     "duration": 0.281113,
     "end_time": "2024-10-20T10:58:31.170991",
     "exception": false,
     "start_time": "2024-10-20T10:58:30.889878",
     "status": "completed"
    },
    "tags": []
   },
   "outputs": [
    {
     "data": {
      "image/png": "[encoded data removed]",
      "text/plain": [
       "<Figure size 1600x1000 with 1 Axes>"
      ]
     },
     "metadata": {},
     "output_type": "display_data"
    }
   ],
   "source": [
    "plt.figure(figsize=(16, 10))\n",
    "df['num'].value_counts().plot(kind='pie', autopct='%1.1f%%')\n",
    "plt.show()"
   ]
  },
  {
   "cell_type": "markdown",
   "id": "ba43be7b",
   "metadata": {},
   "source": [
    "# Display class distribution"
   ]
  },
  {
   "cell_type": "code",
   "execution_count": 6,
   "id": "59598c08",
   "metadata": {
    "execution": {
     "iopub.execute_input": "2024-10-20T10:58:31.211599Z",
     "iopub.status.busy": "2024-10-20T10:58:31.211146Z",
     "iopub.status.idle": "2024-10-20T10:58:31.218308Z",
     "shell.execute_reply": "2024-10-20T10:58:31.217091Z"
    },
    "papermill": {
     "duration": 0.024538,
     "end_time": "2024-10-20T10:58:31.220703",
     "exception": false,
     "start_time": "2024-10-20T10:58:31.196165",
     "status": "completed"
    },
    "tags": []
   },
   "outputs": [
    {
     "name": "stdout",
     "output_type": "stream",
     "text": [
      "Class distribution:\n",
      " 0    411\n",
      "1    265\n",
      "2    109\n",
      "3    107\n",
      "4     28\n",
      "Name: num, dtype: int64\n"
     ]
    }
   ],
   "source": [
    "class_distribution = df['num'].value_counts()\n",
    "print(\"Class distribution:\\n\", class_distribution)"
   ]
  },
  {
   "cell_type": "markdown",
   "id": "65715dca",
   "metadata": {},
   "source": [
    "\n",
    "# Function to augment data for a specific class label"
   ]
  },
  {
   "cell_type": "code",
   "execution_count": 7,
   "id": "f09f2afa",
   "metadata": {
    "execution": {
     "iopub.execute_input": "2024-10-20T10:58:31.251923Z",
     "iopub.status.busy": "2024-10-20T10:58:31.251457Z",
     "iopub.status.idle": "2024-10-20T10:58:31.261262Z",
     "shell.execute_reply": "2024-10-20T10:58:31.260044Z"
    },
    "papermill": {
     "duration": 0.028876,
     "end_time": "2024-10-20T10:58:31.263923",
     "exception": false,
     "start_time": "2024-10-20T10:58:31.235047",
     "status": "completed"
    },
    "tags": []
   },
   "outputs": [],
   "source": [
    "def augment_data(df, class_label, n_augmentations):\n",
    "    df_class = df[df['num'] == class_label]\n",
    "    augmented_data = []\n",
    "    \n",
    "    for _ in range(n_augmentations):\n",
    "        df_aug = df_class.copy()\n",
    "        # Add random noise to specific columns\n",
    "        df_aug['age'] = df_aug['age'] + np.random.randint(-3, 4, df_aug.shape[0])\n",
    "        df_aug['trestbps'] = df_aug['trestbps'] + np.random.randint(-3, 4, df_aug.shape[0])\n",
    "        df_aug['chol'] = df_aug['chol'] + np.random.randint(-3, 4, df_aug.shape[0])\n",
    "        df_aug['thalch'] = df_aug['thalch'] + np.random.randint(-3, 4, df_aug.shape[0])\n",
    "        \n",
    "        augmented_data.append(df_aug)\n",
    "    \n",
    "    return pd.concat(augmented_data)"
   ]
  },
  {
   "cell_type": "markdown",
   "id": "11e93255",
   "metadata": {},
   "source": [
    "# Augment data for different classes"
   ]
  },
  {
   "cell_type": "code",
   "execution_count": 8,
   "id": "370aa2f7",
   "metadata": {
    "execution": {
     "iopub.execute_input": "2024-10-20T10:58:31.293795Z",
     "iopub.status.busy": "2024-10-20T10:58:31.293303Z",
     "iopub.status.idle": "2024-10-20T10:58:31.350704Z",
     "shell.execute_reply": "2024-10-20T10:58:31.349033Z"
    },
    "papermill": {
     "duration": 0.075559,
     "end_time": "2024-10-20T10:58:31.353697",
     "exception": false,
     "start_time": "2024-10-20T10:58:31.278138",
     "status": "completed"
    },
    "tags": []
   },
   "outputs": [],
   "source": [
    "df_class_1_augmented = augment_data(df, class_label=1, n_augmentations=2)\n",
    "df_class_2_augmented = augment_data(df, class_label=2, n_augmentations=5)\n",
    "df_class_3_augmented = augment_data(df, class_label=3, n_augmentations=5)\n",
    "df_class_4_augmented = augment_data(df, class_label=4, n_augmentations=13)"
   ]
  },
  {
   "cell_type": "markdown",
   "id": "da273557",
   "metadata": {},
   "source": [
    "# Combine the original and augmented data"
   ]
  },
  {
   "cell_type": "code",
   "execution_count": 9,
   "id": "91fbd8f4",
   "metadata": {
    "execution": {
     "iopub.execute_input": "2024-10-20T10:58:31.384919Z",
     "iopub.status.busy": "2024-10-20T10:58:31.384056Z",
     "iopub.status.idle": "2024-10-20T10:58:31.397864Z",
     "shell.execute_reply": "2024-10-20T10:58:31.396827Z"
    },
    "papermill": {
     "duration": 0.032236,
     "end_time": "2024-10-20T10:58:31.400365",
     "exception": false,
     "start_time": "2024-10-20T10:58:31.368129",
     "status": "completed"
    },
    "tags": []
   },
   "outputs": [],
   "source": [
    "df = pd.concat([df, df_class_1_augmented, df_class_2_augmented, df_class_3_augmented, df_class_4_augmented])\n",
    "df = df.sample(frac=1).reset_index(drop=True)"
   ]
  },
  {
   "cell_type": "markdown",
   "id": "1271cc15",
   "metadata": {},
   "source": [
    "# Plot the updated distribution of the target variable"
   ]
  },
  {
   "cell_type": "code",
   "execution_count": 10,
   "id": "1f9c9375",
   "metadata": {
    "execution": {
     "iopub.execute_input": "2024-10-20T10:58:31.430603Z",
     "iopub.status.busy": "2024-10-20T10:58:31.430148Z",
     "iopub.status.idle": "2024-10-20T10:58:31.577715Z",
     "shell.execute_reply": "2024-10-20T10:58:31.576367Z"
    },
    "papermill": {
     "duration": 0.167936,
     "end_time": "2024-10-20T10:58:31.582402",
     "exception": false,
     "start_time": "2024-10-20T10:58:31.414466",
     "status": "completed"
    },
    "tags": []
   },
   "outputs": [
    {
     "data": {
      "image/png": "[encoded data removed]",
      "text/plain": [
       "<Figure size 1600x1000 with 1 Axes>"
      ]
     },
     "metadata": {},
     "output_type": "display_data"
    }
   ],
   "source": [
    "plt.figure(figsize=(16, 10))\n",
    "df['num'].value_counts().plot(kind='pie', autopct='%1.1f%%', startangle=90)\n",
    "plt.show()"
   ]
  },
  {
   "cell_type": "markdown",
   "id": "5982d9ae",
   "metadata": {},
   "source": [
    "# check length"
   ]
  },
  {
   "cell_type": "code",
   "execution_count": 11,
   "id": "857248ff",
   "metadata": {
    "execution": {
     "iopub.execute_input": "2024-10-20T10:58:31.646659Z",
     "iopub.status.busy": "2024-10-20T10:58:31.645263Z",
     "iopub.status.idle": "2024-10-20T10:58:31.654185Z",
     "shell.execute_reply": "2024-10-20T10:58:31.652616Z"
    },
    "papermill": {
     "duration": 0.044667,
     "end_time": "2024-10-20T10:58:31.657087",
     "exception": false,
     "start_time": "2024-10-20T10:58:31.612420",
     "status": "completed"
    },
    "tags": []
   },
   "outputs": [
    {
     "name": "stdout",
     "output_type": "stream",
     "text": [
      "Dataset length: 2894\n"
     ]
    }
   ],
   "source": [
    "print(\"Dataset length:\", len(df))"
   ]
  },
  {
   "cell_type": "markdown",
   "id": "0331ebd7",
   "metadata": {},
   "source": [
    "# check unique values"
   ]
  },
  {
   "cell_type": "code",
   "execution_count": 12,
   "id": "acc70923",
   "metadata": {
    "execution": {
     "iopub.execute_input": "2024-10-20T10:58:31.688825Z",
     "iopub.status.busy": "2024-10-20T10:58:31.688386Z",
     "iopub.status.idle": "2024-10-20T10:58:31.698540Z",
     "shell.execute_reply": "2024-10-20T10:58:31.697376Z"
    },
    "papermill": {
     "duration": 0.028578,
     "end_time": "2024-10-20T10:58:31.700953",
     "exception": false,
     "start_time": "2024-10-20T10:58:31.672375",
     "status": "completed"
    },
    "tags": []
   },
   "outputs": [
    {
     "data": {
      "text/plain": [
       "array(['VA Long Beach', 'Hungary', 'Cleveland', 'Switzerland'],\n",
       "      dtype=object)"
      ]
     },
     "execution_count": 12,
     "metadata": {},
     "output_type": "execute_result"
    }
   ],
   "source": [
    "df['dataset'].unique()"
   ]
  },
  {
   "cell_type": "markdown",
   "id": "5385dfbd",
   "metadata": {},
   "source": [
    "# check null values"
   ]
  },
  {
   "cell_type": "code",
   "execution_count": 13,
   "id": "d5afd397",
   "metadata": {
    "execution": {
     "iopub.execute_input": "2024-10-20T10:58:31.734098Z",
     "iopub.status.busy": "2024-10-20T10:58:31.733653Z",
     "iopub.status.idle": "2024-10-20T10:58:31.746450Z",
     "shell.execute_reply": "2024-10-20T10:58:31.745227Z"
    },
    "papermill": {
     "duration": 0.033289,
     "end_time": "2024-10-20T10:58:31.749067",
     "exception": false,
     "start_time": "2024-10-20T10:58:31.715778",
     "status": "completed"
    },
    "tags": []
   },
   "outputs": [
    {
     "data": {
      "text/plain": [
       "id             0\n",
       "age            0\n",
       "sex            0\n",
       "dataset        0\n",
       "cp             0\n",
       "trestbps     239\n",
       "chol          72\n",
       "fbs          366\n",
       "restecg        6\n",
       "thalch       207\n",
       "exang        207\n",
       "oldpeak      238\n",
       "slope        720\n",
       "ca          1935\n",
       "thal        1415\n",
       "num            0\n",
       "dtype: int64"
      ]
     },
     "execution_count": 13,
     "metadata": {},
     "output_type": "execute_result"
    }
   ],
   "source": [
    "df.isnull().sum()"
   ]
  },
  {
   "cell_type": "markdown",
   "id": "719d3fa2",
   "metadata": {},
   "source": [
    "# Drop Un necessary columns"
   ]
  },
  {
   "cell_type": "code",
   "execution_count": 14,
   "id": "0c7b309e",
   "metadata": {
    "execution": {
     "iopub.execute_input": "2024-10-20T10:58:31.781705Z",
     "iopub.status.busy": "2024-10-20T10:58:31.781108Z",
     "iopub.status.idle": "2024-10-20T10:58:31.788880Z",
     "shell.execute_reply": "2024-10-20T10:58:31.787679Z"
    },
    "papermill": {
     "duration": 0.027335,
     "end_time": "2024-10-20T10:58:31.791428",
     "exception": false,
     "start_time": "2024-10-20T10:58:31.764093",
     "status": "completed"
    },
    "tags": []
   },
   "outputs": [],
   "source": [
    "df.drop(['id'], axis=1, inplace=True)"
   ]
  },
  {
   "cell_type": "markdown",
   "id": "29fc03eb",
   "metadata": {},
   "source": [
    "# Replace categorical labels with numerical data"
   ]
  },
  {
   "cell_type": "code",
   "execution_count": 15,
   "id": "1ab82212",
   "metadata": {
    "execution": {
     "iopub.execute_input": "2024-10-20T10:58:31.823566Z",
     "iopub.status.busy": "2024-10-20T10:58:31.822728Z",
     "iopub.status.idle": "2024-10-20T10:58:31.846669Z",
     "shell.execute_reply": "2024-10-20T10:58:31.845410Z"
    },
    "papermill": {
     "duration": 0.043064,
     "end_time": "2024-10-20T10:58:31.849276",
     "exception": false,
     "start_time": "2024-10-20T10:58:31.806212",
     "status": "completed"
    },
    "tags": []
   },
   "outputs": [],
   "source": [
    "df['dataset'] = df['dataset'].map({\n",
    "    'Cleveland': 1,\n",
    "    'Hungary': 2,\n",
    "    'Switzerland': 3,\n",
    "    'VA Long Beach': 4\n",
    "})\n",
    "\n",
    "df['sex'] = df['sex'].map({'Male': 1, 'Female': 0})\n",
    "\n",
    "df['cp'] = df['cp'].map({\n",
    "    'typical angina': 1,\n",
    "    'atypical angina': 2,\n",
    "    'non-anginal': 3,\n",
    "    'asymptomatic': 4\n",
    "})\n",
    "\n",
    "df['restecg'] = df['restecg'].map({\n",
    "    'normal': 0,\n",
    "    'stt abnormality': 1,\n",
    "    'lv hypertrophy': 2\n",
    "})\n",
    "\n",
    "df['fbs'] = df['fbs'].map({1: 1, 0: 0})\n",
    "df['exang'] = df['exang'].map({1: 1, 0: 0})\n",
    "df['slope'] = df['slope'].map({'downsloping': 1, 'flat': 2, 'upsloping': 3})\n",
    "df['thal'] = df['thal'].map({'normal': 1, 'fixed defect': 2, 'reversible defect': 3})"
   ]
  },
  {
   "cell_type": "markdown",
   "id": "3fe20bb0",
   "metadata": {},
   "source": [
    "# Fill missing values based on group means/modes"
   ]
  },
  {
   "cell_type": "code",
   "execution_count": 16,
   "id": "28894874",
   "metadata": {
    "execution": {
     "iopub.execute_input": "2024-10-20T10:58:31.881066Z",
     "iopub.status.busy": "2024-10-20T10:58:31.880605Z",
     "iopub.status.idle": "2024-10-20T10:58:31.944993Z",
     "shell.execute_reply": "2024-10-20T10:58:31.943407Z"
    },
    "papermill": {
     "duration": 0.083501,
     "end_time": "2024-10-20T10:58:31.947821",
     "exception": false,
     "start_time": "2024-10-20T10:58:31.864320",
     "status": "completed"
    },
    "tags": []
   },
   "outputs": [],
   "source": [
    "df['trestbps'] = df.groupby('num')['trestbps'].transform(lambda x: x.fillna(x.mean()))\n",
    "df['chol'] = df.groupby('num')['chol'].transform(lambda x: x.fillna(x.mean()))\n",
    "df['thalch'] = df.groupby('num')['thalch'].transform(lambda x: x.fillna(x.mean()))\n",
    "df['oldpeak'] = df.groupby('num')['oldpeak'].transform(lambda x: x.fillna(x.mean()))\n",
    "df['fbs'] = df.groupby('num')['fbs'].transform(lambda x: x.fillna(x.mode()[0] if not x.mode().empty else 0))\n",
    "df['restecg'] = df.groupby('num')['restecg'].transform(lambda x: x.fillna(x.mode()[0] if not x.mode().empty else 0))\n",
    "df['exang'] = df.groupby('num')['exang'].transform(lambda x: x.fillna(x.mode()[0] if not x.mode().empty else 0))\n",
    "df['slope'] = df.groupby('num')['slope'].transform(lambda x: x.fillna(x.mode()[0] if not x.mode().empty else 0))\n",
    "df['thal'] = df.groupby('num')['thal'].transform(lambda x: x.fillna(x.mode()[0] if not x.mode().empty else 0))\n",
    "df['ca'] = df.groupby('num')['ca'].transform(lambda x: x.fillna(x.mode()[0] if not x.mode().empty else 0))"
   ]
  },
  {
   "cell_type": "markdown",
   "id": "14afe975",
   "metadata": {},
   "source": [
    "# Convert columns to integers after filling missing values"
   ]
  },
  {
   "cell_type": "code",
   "execution_count": 17,
   "id": "cc6caae2",
   "metadata": {
    "execution": {
     "iopub.execute_input": "2024-10-20T10:58:31.979866Z",
     "iopub.status.busy": "2024-10-20T10:58:31.979383Z",
     "iopub.status.idle": "2024-10-20T10:58:31.989689Z",
     "shell.execute_reply": "2024-10-20T10:58:31.988573Z"
    },
    "papermill": {
     "duration": 0.028904,
     "end_time": "2024-10-20T10:58:31.992119",
     "exception": false,
     "start_time": "2024-10-20T10:58:31.963215",
     "status": "completed"
    },
    "tags": []
   },
   "outputs": [],
   "source": [
    "df['fbs'] = df['fbs'].astype(int)\n",
    "df['restecg'] = df['restecg'].astype(int)\n",
    "df['exang'] = df['exang'].astype(int)\n",
    "df['slope'] = df['slope'].astype(int)\n",
    "df['ca'] = df['ca'].astype(int)\n",
    "df['thal'] = df['thal'].astype(int)"
   ]
  },
  {
   "cell_type": "markdown",
   "id": "2ea7a90f",
   "metadata": {},
   "source": [
    "# check null values"
   ]
  },
  {
   "cell_type": "code",
   "execution_count": 18,
   "id": "bb36211c",
   "metadata": {
    "execution": {
     "iopub.execute_input": "2024-10-20T10:58:32.023536Z",
     "iopub.status.busy": "2024-10-20T10:58:32.023052Z",
     "iopub.status.idle": "2024-10-20T10:58:32.034103Z",
     "shell.execute_reply": "2024-10-20T10:58:32.032945Z"
    },
    "papermill": {
     "duration": 0.029745,
     "end_time": "2024-10-20T10:58:32.036797",
     "exception": false,
     "start_time": "2024-10-20T10:58:32.007052",
     "status": "completed"
    },
    "tags": []
   },
   "outputs": [
    {
     "data": {
      "text/plain": [
       "age         0\n",
       "sex         0\n",
       "dataset     0\n",
       "cp          0\n",
       "trestbps    0\n",
       "chol        0\n",
       "fbs         0\n",
       "restecg     0\n",
       "thalch      0\n",
       "exang       0\n",
       "oldpeak     0\n",
       "slope       0\n",
       "ca          0\n",
       "thal        0\n",
       "num         0\n",
       "dtype: int64"
      ]
     },
     "execution_count": 18,
     "metadata": {},
     "output_type": "execute_result"
    }
   ],
   "source": [
    "df.isnull().sum()"
   ]
  },
  {
   "cell_type": "markdown",
   "id": "75895b05",
   "metadata": {},
   "source": [
    "# Visualize feature distributions"
   ]
  },
  {
   "cell_type": "code",
   "execution_count": 19,
   "id": "0cd82020",
   "metadata": {
    "execution": {
     "iopub.execute_input": "2024-10-20T10:58:32.070795Z",
     "iopub.status.busy": "2024-10-20T10:58:32.069848Z",
     "iopub.status.idle": "2024-10-20T10:58:37.766895Z",
     "shell.execute_reply": "2024-10-20T10:58:37.765536Z"
    },
    "papermill": {
     "duration": 5.718887,
     "end_time": "2024-10-20T10:58:37.771143",
     "exception": false,
     "start_time": "2024-10-20T10:58:32.052256",
     "status": "completed"
    },
    "tags": []
   },
   "outputs": [
    {
     "data": {
      "image/png": "[encoded data removed]",
      "text/plain": [
       "<Figure size 1200x1500 with 5 Axes>"
      ]
     },
     "metadata": {},
     "output_type": "display_data"
    }
   ],
   "source": [
    "fig, axs = plt.subplots(3 , 2, figsize=(12, 15))\n",
    "\n",
    "sns.countplot(x='age', data=df, ax=axs[0, 0])\n",
    "axs[0, 0].set_title('Age Count Plot')\n",
    "axs[0, 0].tick_params(axis='x', rotation=90, labelsize=7)\n",
    "\n",
    "sns.countplot(x='trestbps', data=df, ax=axs[0, 1])\n",
    "axs[0, 1].set_title('Resting Blood Pressure Count Plot')\n",
    "axs[0, 1].set_xticklabels([])\n",
    "\n",
    "sns.countplot(x='chol', data=df, ax=axs[1, 0])\n",
    "axs[1, 0].set_title('Cholesterol Count Plot')\n",
    "axs[1, 0].set_xticklabels([])\n",
    "\n",
    "sns.countplot(x='thalch', data=df, ax=axs[1, 1])\n",
    "axs[1, 1].set_title('Max Heart Rate Achieved Count Plot')\n",
    "axs[1, 1].set_xticklabels([])\n",
    "\n",
    "sns.countplot(x='oldpeak', data=df, ax=axs[2, 0])\n",
    "axs[2, 0].set_title('Oldpeak Count Plot')\n",
    "axs[2, 0].set_xticklabels([])\n",
    "\n",
    "fig.delaxes(axs[2, 1])\n",
    "plt.tight_layout()\n",
    "plt.show()"
   ]
  },
  {
   "cell_type": "code",
   "execution_count": 20,
   "id": "3153553b",
   "metadata": {
    "execution": {
     "iopub.execute_input": "2024-10-20T10:58:37.807992Z",
     "iopub.status.busy": "2024-10-20T10:58:37.806984Z",
     "iopub.status.idle": "2024-10-20T10:58:37.820882Z",
     "shell.execute_reply": "2024-10-20T10:58:37.819288Z"
    },
    "papermill": {
     "duration": 0.035341,
     "end_time": "2024-10-20T10:58:37.824351",
     "exception": false,
     "start_time": "2024-10-20T10:58:37.789010",
     "status": "completed"
    },
    "tags": []
   },
   "outputs": [
    {
     "data": {
      "text/plain": [
       "1409     -3.0\n",
       "623      -3.0\n",
       "1965     -3.0\n",
       "1650     -3.0\n",
       "2548     -3.0\n",
       "        ...  \n",
       "1030    530.0\n",
       "1414    564.0\n",
       "428     601.0\n",
       "2100    603.0\n",
       "2150    606.0\n",
       "Name: chol, Length: 2894, dtype: float64"
      ]
     },
     "execution_count": 20,
     "metadata": {},
     "output_type": "execute_result"
    }
   ],
   "source": [
    "df['chol'].dropna().sort_values()"
   ]
  },
  {
   "cell_type": "markdown",
   "id": "4818f0a4",
   "metadata": {},
   "source": [
    "# Create bins for continuous variables for easier interpretation"
   ]
  },
  {
   "cell_type": "code",
   "execution_count": 21,
   "id": "ce1ea64f",
   "metadata": {
    "execution": {
     "iopub.execute_input": "2024-10-20T10:58:37.872013Z",
     "iopub.status.busy": "2024-10-20T10:58:37.871010Z",
     "iopub.status.idle": "2024-10-20T10:58:37.895774Z",
     "shell.execute_reply": "2024-10-20T10:58:37.894177Z"
    },
    "papermill": {
     "duration": 0.049229,
     "end_time": "2024-10-20T10:58:37.898591",
     "exception": false,
     "start_time": "2024-10-20T10:58:37.849362",
     "status": "completed"
    },
    "tags": []
   },
   "outputs": [],
   "source": [
    "df['age'] = pd.cut(df['age'], bins=[0, 30, 40, 50, 60, 100], labels=[1, 2, 3, 4, 5])\n",
    "df['trestbps'] = pd.cut(df['trestbps'], bins=[-4, 120, 130, 140, 150, 204], labels=[1, 2, 3, 4, 5])\n",
    "df['chol'] = pd.cut(df['chol'], bins=[-4, 200, 240, 300, 350, 400, 500, 600, 607], labels=[1, 2, 3, 4, 5, 6, 7, 8])\n",
    "df['thalch'] = pd.cut(df['thalch'], bins=[50, 100, 140, 160, 180, 220], labels=[1, 2, 3, 4, 5])\n",
    "df['oldpeak'] = pd.cut(df['oldpeak'], bins=[-3, -2, 0, 2, 4, 7], labels=[1, 2, 3, 4, 5])"
   ]
  },
  {
   "cell_type": "markdown",
   "id": "8353e312",
   "metadata": {},
   "source": [
    "# Re-plot the binned features"
   ]
  },
  {
   "cell_type": "code",
   "execution_count": 22,
   "id": "e80eee43",
   "metadata": {
    "execution": {
     "iopub.execute_input": "2024-10-20T10:58:37.933391Z",
     "iopub.status.busy": "2024-10-20T10:58:37.932952Z",
     "iopub.status.idle": "2024-10-20T10:58:39.330821Z",
     "shell.execute_reply": "2024-10-20T10:58:39.329590Z"
    },
    "papermill": {
     "duration": 1.418817,
     "end_time": "2024-10-20T10:58:39.333831",
     "exception": false,
     "start_time": "2024-10-20T10:58:37.915014",
     "status": "completed"
    },
    "tags": []
   },
   "outputs": [
    {
     "data": {
      "image/png": "[encoded data removed]",
      "text/plain": [
       "<Figure size 1200x1500 with 5 Axes>"
      ]
     },
     "metadata": {},
     "output_type": "display_data"
    }
   ],
   "source": [
    "fig, axs = plt.subplots(3, 2, figsize=(12, 15))\n",
    "\n",
    "sns.countplot(x='age', data=df, ax=axs[0, 0])\n",
    "axs[0, 0].set_title('Age Count Plot')\n",
    "\n",
    "sns.countplot(x='trestbps', data=df, ax=axs[0, 1])\n",
    "axs[0, 1].set_title('Resting Blood Pressure Count Plot')\n",
    "\n",
    "sns.countplot(x='chol', data=df, ax=axs[1, 0])\n",
    "axs[1, 0].set_title('Cholesterol Count Plot')\n",
    "\n",
    "sns.countplot(x='thalch', data=df, ax=axs[1, 1])\n",
    "axs[1, 1].set_title('Max Heart Rate Achieved Count Plot')\n",
    "\n",
    "sns.countplot(x='oldpeak', data=df, ax=axs[2, 0])\n",
    "axs[2, 0].set_title('Oldpeak Count Plot')\n",
    "\n",
    "fig.delaxes(axs[2, 1])\n",
    "\n",
    "plt.tight_layout()\n",
    "plt.show()"
   ]
  },
  {
   "cell_type": "markdown",
   "id": "d93fe953",
   "metadata": {},
   "source": [
    "# check data frame"
   ]
  },
  {
   "cell_type": "code",
   "execution_count": 23,
   "id": "76d0aa2a",
   "metadata": {
    "execution": {
     "iopub.execute_input": "2024-10-20T10:58:39.372201Z",
     "iopub.status.busy": "2024-10-20T10:58:39.371717Z",
     "iopub.status.idle": "2024-10-20T10:58:39.392900Z",
     "shell.execute_reply": "2024-10-20T10:58:39.391591Z"
    },
    "papermill": {
     "duration": 0.044308,
     "end_time": "2024-10-20T10:58:39.395779",
     "exception": false,
     "start_time": "2024-10-20T10:58:39.351471",
     "status": "completed"
    },
    "tags": []
   },
   "outputs": [
    {
     "data": {
      "text/html": [
       "<div>\n",
       "<style scoped>\n",
       "    .dataframe tbody tr th:only-of-type {\n",
       "        vertical-align: middle;\n",
       "    }\n",
       "\n",
       "    .dataframe tbody tr th {\n",
       "        vertical-align: top;\n",
       "    }\n",
       "\n",
       "    .dataframe thead th {\n",
       "        text-align: right;\n",
       "    }\n",
       "</style>\n",
       "<table border=\"1\" class=\"dataframe\">\n",
       "  <thead>\n",
       "    <tr style=\"text-align: right;\">\n",
       "      <th></th>\n",
       "      <th>age</th>\n",
       "      <th>sex</th>\n",
       "      <th>dataset</th>\n",
       "      <th>cp</th>\n",
       "      <th>trestbps</th>\n",
       "      <th>chol</th>\n",
       "      <th>fbs</th>\n",
       "      <th>restecg</th>\n",
       "      <th>thalch</th>\n",
       "      <th>exang</th>\n",
       "      <th>oldpeak</th>\n",
       "      <th>slope</th>\n",
       "      <th>ca</th>\n",
       "      <th>thal</th>\n",
       "      <th>num</th>\n",
       "    </tr>\n",
       "  </thead>\n",
       "  <tbody>\n",
       "    <tr>\n",
       "      <th>0</th>\n",
       "      <td>4</td>\n",
       "      <td>1</td>\n",
       "      <td>4</td>\n",
       "      <td>4</td>\n",
       "      <td>3</td>\n",
       "      <td>3</td>\n",
       "      <td>0</td>\n",
       "      <td>0</td>\n",
       "      <td>3</td>\n",
       "      <td>1</td>\n",
       "      <td>3</td>\n",
       "      <td>2</td>\n",
       "      <td>0</td>\n",
       "      <td>1</td>\n",
       "      <td>0</td>\n",
       "    </tr>\n",
       "    <tr>\n",
       "      <th>1</th>\n",
       "      <td>3</td>\n",
       "      <td>0</td>\n",
       "      <td>2</td>\n",
       "      <td>3</td>\n",
       "      <td>2</td>\n",
       "      <td>2</td>\n",
       "      <td>0</td>\n",
       "      <td>0</td>\n",
       "      <td>2</td>\n",
       "      <td>0</td>\n",
       "      <td>2</td>\n",
       "      <td>3</td>\n",
       "      <td>0</td>\n",
       "      <td>1</td>\n",
       "      <td>0</td>\n",
       "    </tr>\n",
       "    <tr>\n",
       "      <th>2</th>\n",
       "      <td>4</td>\n",
       "      <td>1</td>\n",
       "      <td>4</td>\n",
       "      <td>4</td>\n",
       "      <td>3</td>\n",
       "      <td>4</td>\n",
       "      <td>0</td>\n",
       "      <td>0</td>\n",
       "      <td>3</td>\n",
       "      <td>1</td>\n",
       "      <td>3</td>\n",
       "      <td>2</td>\n",
       "      <td>0</td>\n",
       "      <td>1</td>\n",
       "      <td>1</td>\n",
       "    </tr>\n",
       "    <tr>\n",
       "      <th>3</th>\n",
       "      <td>2</td>\n",
       "      <td>0</td>\n",
       "      <td>2</td>\n",
       "      <td>4</td>\n",
       "      <td>2</td>\n",
       "      <td>1</td>\n",
       "      <td>0</td>\n",
       "      <td>0</td>\n",
       "      <td>5</td>\n",
       "      <td>0</td>\n",
       "      <td>2</td>\n",
       "      <td>3</td>\n",
       "      <td>0</td>\n",
       "      <td>1</td>\n",
       "      <td>0</td>\n",
       "    </tr>\n",
       "    <tr>\n",
       "      <th>4</th>\n",
       "      <td>4</td>\n",
       "      <td>1</td>\n",
       "      <td>1</td>\n",
       "      <td>4</td>\n",
       "      <td>3</td>\n",
       "      <td>1</td>\n",
       "      <td>0</td>\n",
       "      <td>0</td>\n",
       "      <td>2</td>\n",
       "      <td>1</td>\n",
       "      <td>3</td>\n",
       "      <td>2</td>\n",
       "      <td>1</td>\n",
       "      <td>1</td>\n",
       "      <td>3</td>\n",
       "    </tr>\n",
       "  </tbody>\n",
       "</table>\n",
       "</div>"
      ],
      "text/plain": [
       "  age  sex  dataset  cp trestbps chol  fbs  restecg thalch  exang oldpeak  \\\n",
       "0   4    1        4   4        3    3    0        0      3      1       3   \n",
       "1   3    0        2   3        2    2    0        0      2      0       2   \n",
       "2   4    1        4   4        3    4    0        0      3      1       3   \n",
       "3   2    0        2   4        2    1    0        0      5      0       2   \n",
       "4   4    1        1   4        3    1    0        0      2      1       3   \n",
       "\n",
       "   slope  ca  thal  num  \n",
       "0      2   0     1    0  \n",
       "1      3   0     1    0  \n",
       "2      2   0     1    1  \n",
       "3      3   0     1    0  \n",
       "4      2   1     1    3  "
      ]
     },
     "execution_count": 23,
     "metadata": {},
     "output_type": "execute_result"
    }
   ],
   "source": [
    "df.head()"
   ]
  },
  {
   "cell_type": "markdown",
   "id": "4048d668",
   "metadata": {},
   "source": [
    "# feature correlation matrix in dataframe"
   ]
  },
  {
   "cell_type": "code",
   "execution_count": 24,
   "id": "43672306",
   "metadata": {
    "execution": {
     "iopub.execute_input": "2024-10-20T10:58:39.490450Z",
     "iopub.status.busy": "2024-10-20T10:58:39.490026Z",
     "iopub.status.idle": "2024-10-20T10:58:39.502895Z",
     "shell.execute_reply": "2024-10-20T10:58:39.501559Z"
    },
    "papermill": {
     "duration": 0.035267,
     "end_time": "2024-10-20T10:58:39.505412",
     "exception": false,
     "start_time": "2024-10-20T10:58:39.470145",
     "status": "completed"
    },
    "tags": []
   },
   "outputs": [
    {
     "name": "stdout",
     "output_type": "stream",
     "text": [
      "num        1.000000\n",
      "ca         0.779202\n",
      "thal       0.525798\n",
      "cp         0.293149\n",
      "restecg    0.287860\n",
      "exang      0.253421\n",
      "sex        0.204044\n",
      "dataset    0.155541\n",
      "fbs        0.093133\n",
      "slope     -0.351658\n",
      "Name: num, dtype: float64\n"
     ]
    },
    {
     "name": "stderr",
     "output_type": "stream",
     "text": [
      "C:\\Users\\CompuStar\\AppData\\Local\\Temp\\ipykernel_6032\\1968492310.py:1: FutureWarning: The default value of numeric_only in DataFrame.corr is deprecated. In a future version, it will default to False. Select only valid columns or specify the value of numeric_only to silence this warning.\n",
      "  correlation_matrix = df.corr()\n"
     ]
    }
   ],
   "source": [
    "correlation_matrix = df.corr()\n",
    "num_corr = correlation_matrix['num'].sort_values(ascending=False)\n",
    "print(num_corr)"
   ]
  },
  {
   "cell_type": "markdown",
   "id": "52c98af3",
   "metadata": {},
   "source": [
    "# Define features and target variable"
   ]
  },
  {
   "cell_type": "code",
   "execution_count": 25,
   "id": "0c4f1d14",
   "metadata": {
    "execution": {
     "iopub.execute_input": "2024-10-20T10:58:39.544755Z",
     "iopub.status.busy": "2024-10-20T10:58:39.544294Z",
     "iopub.status.idle": "2024-10-20T10:58:39.552664Z",
     "shell.execute_reply": "2024-10-20T10:58:39.551345Z"
    },
    "papermill": {
     "duration": 0.031922,
     "end_time": "2024-10-20T10:58:39.555786",
     "exception": false,
     "start_time": "2024-10-20T10:58:39.523864",
     "status": "completed"
    },
    "tags": []
   },
   "outputs": [],
   "source": [
    "X = df.drop('num', axis=1)\n",
    "y = df['num']"
   ]
  },
  {
   "cell_type": "markdown",
   "id": "28753b0c",
   "metadata": {},
   "source": [
    "# Split the data (80% train, 20% test)"
   ]
  },
  {
   "cell_type": "code",
   "execution_count": 26,
   "id": "12c29ebf",
   "metadata": {},
   "outputs": [
    {
     "name": "stdout",
     "output_type": "stream",
     "text": [
      "WARNING:tensorflow:From C:\\Users\\CompuStar\\anaconda3\\Lib\\site-packages\\keras\\src\\losses.py:2976: The name tf.losses.sparse_softmax_cross_entropy is deprecated. Please use tf.compat.v1.losses.sparse_softmax_cross_entropy instead.\n",
      "\n"
     ]
    }
   ],
   "source": [
    "from sklearn.model_selection import train_test_split, GridSearchCV, cross_val_score\n",
    "from sklearn.metrics import classification_report, accuracy_score\n",
    "from sklearn.linear_model import LogisticRegression\n",
    "from sklearn.ensemble import StackingClassifier, GradientBoostingClassifier, RandomForestClassifier\n",
    "from sklearn.preprocessing import StandardScaler\n",
    "from tensorflow.keras.models import Sequential\n",
    "from tensorflow.keras.layers import Dense, Input\n",
    "from tensorflow.keras.utils import to_categorical"
   ]
  },
  {
   "cell_type": "code",
   "execution_count": 27,
   "id": "a3379c80",
   "metadata": {
    "execution": {
     "iopub.execute_input": "2024-10-20T10:58:39.595363Z",
     "iopub.status.busy": "2024-10-20T10:58:39.594944Z",
     "iopub.status.idle": "2024-10-20T10:58:39.606706Z",
     "shell.execute_reply": "2024-10-20T10:58:39.605568Z"
    },
    "papermill": {
     "duration": 0.034369,
     "end_time": "2024-10-20T10:58:39.609486",
     "exception": false,
     "start_time": "2024-10-20T10:58:39.575117",
     "status": "completed"
    },
    "tags": []
   },
   "outputs": [],
   "source": [
    "X_train, X_test, y_train, y_test = train_test_split(X, y, test_size=0.2, random_state=42, stratify=y)"
   ]
  },
  {
   "cell_type": "markdown",
   "id": "ecd14d49",
   "metadata": {},
   "source": [
    "# Initialize the models"
   ]
  },
  {
   "cell_type": "code",
   "execution_count": 28,
   "id": "e28c0ba4",
   "metadata": {
    "execution": {
     "iopub.execute_input": "2024-10-20T10:58:39.648161Z",
     "iopub.status.busy": "2024-10-20T10:58:39.647759Z",
     "iopub.status.idle": "2024-10-20T10:58:39.655044Z",
     "shell.execute_reply": "2024-10-20T10:58:39.653096Z"
    },
    "papermill": {
     "duration": 0.030152,
     "end_time": "2024-10-20T10:58:39.658011",
     "exception": false,
     "start_time": "2024-10-20T10:58:39.627859",
     "status": "completed"
    },
    "tags": []
   },
   "outputs": [],
   "source": [
    "gb_clf = GradientBoostingClassifier(random_state=42)\n",
    "rf_clf = RandomForestClassifier(random_state=42)"
   ]
  },
  {
   "cell_type": "markdown",
   "id": "ad59d877",
   "metadata": {},
   "source": [
    "# ensemble"
   ]
  },
  {
   "cell_type": "code",
   "execution_count": 29,
   "id": "498e1ab0",
   "metadata": {
    "execution": {
     "iopub.execute_input": "2024-10-20T10:58:39.699174Z",
     "iopub.status.busy": "2024-10-20T10:58:39.698765Z",
     "iopub.status.idle": "2024-10-20T10:58:39.704799Z",
     "shell.execute_reply": "2024-10-20T10:58:39.703722Z"
    },
    "papermill": {
     "duration": 0.028748,
     "end_time": "2024-10-20T10:58:39.707210",
     "exception": false,
     "start_time": "2024-10-20T10:58:39.678462",
     "status": "completed"
    },
    "tags": []
   },
   "outputs": [],
   "source": [
    "stacking_clf = StackingClassifier(\n",
    "    estimators=[\n",
    "        ('gb', gb_clf),\n",
    "        ('rf', rf_clf)\n",
    "    ],\n",
    "    final_estimator=LogisticRegression(solver='liblinear', max_iter=200),\n",
    "    cv=5  \n",
    ")"
   ]
  },
  {
   "cell_type": "code",
   "execution_count": 30,
   "id": "91be5971",
   "metadata": {
    "execution": {
     "iopub.execute_input": "2024-10-20T10:58:39.745685Z",
     "iopub.status.busy": "2024-10-20T10:58:39.745209Z",
     "iopub.status.idle": "2024-10-20T10:58:39.752010Z",
     "shell.execute_reply": "2024-10-20T10:58:39.750416Z"
    },
    "papermill": {
     "duration": 0.02941,
     "end_time": "2024-10-20T10:58:39.754971",
     "exception": false,
     "start_time": "2024-10-20T10:58:39.725561",
     "status": "completed"
    },
    "tags": []
   },
   "outputs": [],
   "source": [
    "param_grid = {\n",
    "    'gb__n_estimators': [50, 100],\n",
    "    'gb__learning_rate': [0.01, 0.1],\n",
    "    'rf__n_estimators': [50, 100],\n",
    "    'rf__max_depth': [None, 10, 20],\n",
    "    'final_estimator__C': [0.1, 1, 10]\n",
    "}"
   ]
  },
  {
   "cell_type": "code",
   "execution_count": 31,
   "id": "8f7e7936",
   "metadata": {
    "execution": {
     "iopub.execute_input": "2024-10-20T10:58:39.796409Z",
     "iopub.status.busy": "2024-10-20T10:58:39.795436Z",
     "iopub.status.idle": "2024-10-20T10:58:39.801232Z",
     "shell.execute_reply": "2024-10-20T10:58:39.800162Z"
    },
    "papermill": {
     "duration": 0.028342,
     "end_time": "2024-10-20T10:58:39.803766",
     "exception": false,
     "start_time": "2024-10-20T10:58:39.775424",
     "status": "completed"
    },
    "tags": []
   },
   "outputs": [],
   "source": [
    "grid_search = GridSearchCV(estimator=stacking_clf,\n",
    "                           param_grid=param_grid,\n",
    "                           scoring='accuracy',\n",
    "                           cv=5,\n",
    "                           verbose=0, \n",
    "                           n_jobs=-1)"
   ]
  },
  {
   "cell_type": "markdown",
   "id": "9e2931ff",
   "metadata": {},
   "source": [
    "# Fit the grid search"
   ]
  },
  {
   "cell_type": "code",
   "execution_count": 32,
   "id": "6d48ad3c",
   "metadata": {
    "execution": {
     "iopub.execute_input": "2024-10-20T10:58:39.841959Z",
     "iopub.status.busy": "2024-10-20T10:58:39.841474Z",
     "iopub.status.idle": "2024-10-20T11:14:58.571092Z",
     "shell.execute_reply": "2024-10-20T11:14:58.569628Z"
    },
    "papermill": {
     "duration": 978.770844,
     "end_time": "2024-10-20T11:14:58.592853",
     "exception": false,
     "start_time": "2024-10-20T10:58:39.822009",
     "status": "completed"
    },
    "tags": []
   },
   "outputs": [
    {
     "data": {
      "text/html": [
       "<style>#sk-container-id-1 {color: black;}#sk-container-id-1 pre{padding: 0;}#sk-container-id-1 div.sk-toggleable {background-color: white;}#sk-container-id-1 label.sk-toggleable__label {cursor: pointer;display: block;width: 100%;margin-bottom: 0;padding: 0.3em;box-sizing: border-box;text-align: center;}#sk-container-id-1 label.sk-toggleable__label-arrow:before {content: \"▸\";float: left;margin-right: 0.25em;color: #696969;}#sk-container-id-1 label.sk-toggleable__label-arrow:hover:before {color: black;}#sk-container-id-1 div.sk-estimator:hover label.sk-toggleable__label-arrow:before {color: black;}#sk-container-id-1 div.sk-toggleable__content {max-height: 0;max-width: 0;overflow: hidden;text-align: left;background-color: #f0f8ff;}#sk-container-id-1 div.sk-toggleable__content pre {margin: 0.2em;color: black;border-radius: 0.25em;background-color: #f0f8ff;}#sk-container-id-1 input.sk-toggleable__control:checked~div.sk-toggleable__content {max-height: 200px;max-width: 100%;overflow: auto;}#sk-container-id-1 input.sk-toggleable__control:checked~label.sk-toggleable__label-arrow:before {content: \"▾\";}#sk-container-id-1 div.sk-estimator input.sk-toggleable__control:checked~label.sk-toggleable__label {background-color: #d4ebff;}#sk-container-id-1 div.sk-label input.sk-toggleable__control:checked~label.sk-toggleable__label {background-color: #d4ebff;}#sk-container-id-1 input.sk-hidden--visually {border: 0;clip: rect(1px 1px 1px 1px);clip: rect(1px, 1px, 1px, 1px);height: 1px;margin: -1px;overflow: hidden;padding: 0;position: absolute;width: 1px;}#sk-container-id-1 div.sk-estimator {font-family: monospace;background-color: #f0f8ff;border: 1px dotted black;border-radius: 0.25em;box-sizing: border-box;margin-bottom: 0.5em;}#sk-container-id-1 div.sk-estimator:hover {background-color: #d4ebff;}#sk-container-id-1 div.sk-parallel-item::after {content: \"\";width: 100%;border-bottom: 1px solid gray;flex-grow: 1;}#sk-container-id-1 div.sk-label:hover label.sk-toggleable__label {background-color: #d4ebff;}#sk-container-id-1 div.sk-serial::before {content: \"\";position: absolute;border-left: 1px solid gray;box-sizing: border-box;top: 0;bottom: 0;left: 50%;z-index: 0;}#sk-container-id-1 div.sk-serial {display: flex;flex-direction: column;align-items: center;background-color: white;padding-right: 0.2em;padding-left: 0.2em;position: relative;}#sk-container-id-1 div.sk-item {position: relative;z-index: 1;}#sk-container-id-1 div.sk-parallel {display: flex;align-items: stretch;justify-content: center;background-color: white;position: relative;}#sk-container-id-1 div.sk-item::before, #sk-container-id-1 div.sk-parallel-item::before {content: \"\";position: absolute;border-left: 1px solid gray;box-sizing: border-box;top: 0;bottom: 0;left: 50%;z-index: -1;}#sk-container-id-1 div.sk-parallel-item {display: flex;flex-direction: column;z-index: 1;position: relative;background-color: white;}#sk-container-id-1 div.sk-parallel-item:first-child::after {align-self: flex-end;width: 50%;}#sk-container-id-1 div.sk-parallel-item:last-child::after {align-self: flex-start;width: 50%;}#sk-container-id-1 div.sk-parallel-item:only-child::after {width: 0;}#sk-container-id-1 div.sk-dashed-wrapped {border: 1px dashed gray;margin: 0 0.4em 0.5em 0.4em;box-sizing: border-box;padding-bottom: 0.4em;background-color: white;}#sk-container-id-1 div.sk-label label {font-family: monospace;font-weight: bold;display: inline-block;line-height: 1.2em;}#sk-container-id-1 div.sk-label-container {text-align: center;}#sk-container-id-1 div.sk-container {/* jupyter's `normalize.less` sets `[hidden] { display: none; }` but bootstrap.min.css set `[hidden] { display: none !important; }` so we also need the `!important` here to be able to override the default hidden behavior on the sphinx rendered scikit-learn.org. See: https://github.com/scikit-learn/scikit-learn/issues/21755 */display: inline-block !important;position: relative;}#sk-container-id-1 div.sk-text-repr-fallback {display: none;}</style><div id=\"sk-container-id-1\" class=\"sk-top-container\"><div class=\"sk-text-repr-fallback\"><pre>GridSearchCV(cv=5,\n",
       "             estimator=StackingClassifier(cv=5,\n",
       "                                          estimators=[(&#x27;gb&#x27;,\n",
       "                                                       GradientBoostingClassifier(random_state=42)),\n",
       "                                                      (&#x27;rf&#x27;,\n",
       "                                                       RandomForestClassifier(random_state=42))],\n",
       "                                          final_estimator=LogisticRegression(max_iter=200,\n",
       "                                                                             solver=&#x27;liblinear&#x27;)),\n",
       "             n_jobs=-1,\n",
       "             param_grid={&#x27;final_estimator__C&#x27;: [0.1, 1, 10],\n",
       "                         &#x27;gb__learning_rate&#x27;: [0.01, 0.1],\n",
       "                         &#x27;gb__n_estimators&#x27;: [50, 100],\n",
       "                         &#x27;rf__max_depth&#x27;: [None, 10, 20],\n",
       "                         &#x27;rf__n_estimators&#x27;: [50, 100]},\n",
       "             scoring=&#x27;accuracy&#x27;)</pre><b>In a Jupyter environment, please rerun this cell to show the HTML representation or trust the notebook. <br />On GitHub, the HTML representation is unable to render, please try loading this page with nbviewer.org.</b></div><div class=\"sk-container\" hidden><div class=\"sk-item sk-dashed-wrapped\"><div class=\"sk-label-container\"><div class=\"sk-label sk-toggleable\"><input class=\"sk-toggleable__control sk-hidden--visually\" id=\"sk-estimator-id-1\" type=\"checkbox\" ><label for=\"sk-estimator-id-1\" class=\"sk-toggleable__label sk-toggleable__label-arrow\">GridSearchCV</label><div class=\"sk-toggleable__content\"><pre>GridSearchCV(cv=5,\n",
       "             estimator=StackingClassifier(cv=5,\n",
       "                                          estimators=[(&#x27;gb&#x27;,\n",
       "                                                       GradientBoostingClassifier(random_state=42)),\n",
       "                                                      (&#x27;rf&#x27;,\n",
       "                                                       RandomForestClassifier(random_state=42))],\n",
       "                                          final_estimator=LogisticRegression(max_iter=200,\n",
       "                                                                             solver=&#x27;liblinear&#x27;)),\n",
       "             n_jobs=-1,\n",
       "             param_grid={&#x27;final_estimator__C&#x27;: [0.1, 1, 10],\n",
       "                         &#x27;gb__learning_rate&#x27;: [0.01, 0.1],\n",
       "                         &#x27;gb__n_estimators&#x27;: [50, 100],\n",
       "                         &#x27;rf__max_depth&#x27;: [None, 10, 20],\n",
       "                         &#x27;rf__n_estimators&#x27;: [50, 100]},\n",
       "             scoring=&#x27;accuracy&#x27;)</pre></div></div></div><div class=\"sk-parallel\"><div class=\"sk-parallel-item\"><div class=\"sk-item\"><div class=\"sk-label-container\"><div class=\"sk-label sk-toggleable\"><input class=\"sk-toggleable__control sk-hidden--visually\" id=\"sk-estimator-id-2\" type=\"checkbox\" ><label for=\"sk-estimator-id-2\" class=\"sk-toggleable__label sk-toggleable__label-arrow\">estimator: StackingClassifier</label><div class=\"sk-toggleable__content\"><pre>StackingClassifier(cv=5,\n",
       "                   estimators=[(&#x27;gb&#x27;,\n",
       "                                GradientBoostingClassifier(random_state=42)),\n",
       "                               (&#x27;rf&#x27;, RandomForestClassifier(random_state=42))],\n",
       "                   final_estimator=LogisticRegression(max_iter=200,\n",
       "                                                      solver=&#x27;liblinear&#x27;))</pre></div></div></div><div class=\"sk-serial\"><div class=\"sk-item\"><div class=\"sk-serial\"><div class=\"sk-item\"><div class=\"sk-parallel\"><div class=\"sk-parallel-item\"><div class=\"sk-item\"><div class=\"sk-label-container\"><div class=\"sk-label sk-toggleable\"><label>gb</label></div></div><div class=\"sk-serial\"><div class=\"sk-item\"><div class=\"sk-estimator sk-toggleable\"><input class=\"sk-toggleable__control sk-hidden--visually\" id=\"sk-estimator-id-3\" type=\"checkbox\" ><label for=\"sk-estimator-id-3\" class=\"sk-toggleable__label sk-toggleable__label-arrow\">GradientBoostingClassifier</label><div class=\"sk-toggleable__content\"><pre>GradientBoostingClassifier(random_state=42)</pre></div></div></div></div></div></div><div class=\"sk-parallel-item\"><div class=\"sk-item\"><div class=\"sk-label-container\"><div class=\"sk-label sk-toggleable\"><label>rf</label></div></div><div class=\"sk-serial\"><div class=\"sk-item\"><div class=\"sk-estimator sk-toggleable\"><input class=\"sk-toggleable__control sk-hidden--visually\" id=\"sk-estimator-id-4\" type=\"checkbox\" ><label for=\"sk-estimator-id-4\" class=\"sk-toggleable__label sk-toggleable__label-arrow\">RandomForestClassifier</label><div class=\"sk-toggleable__content\"><pre>RandomForestClassifier(random_state=42)</pre></div></div></div></div></div></div></div></div><div class=\"sk-item\"><div class=\"sk-parallel\"><div class=\"sk-parallel-item\"><div class=\"sk-item\"><div class=\"sk-label-container\"><div class=\"sk-label sk-toggleable\"><label>final_estimator</label></div></div><div class=\"sk-serial\"><div class=\"sk-item\"><div class=\"sk-estimator sk-toggleable\"><input class=\"sk-toggleable__control sk-hidden--visually\" id=\"sk-estimator-id-5\" type=\"checkbox\" ><label for=\"sk-estimator-id-5\" class=\"sk-toggleable__label sk-toggleable__label-arrow\">LogisticRegression</label><div class=\"sk-toggleable__content\"><pre>LogisticRegression(max_iter=200, solver=&#x27;liblinear&#x27;)</pre></div></div></div></div></div></div></div></div></div></div></div></div></div></div></div></div></div>"
      ],
      "text/plain": [
       "GridSearchCV(cv=5,\n",
       "             estimator=StackingClassifier(cv=5,\n",
       "                                          estimators=[('gb',\n",
       "                                                       GradientBoostingClassifier(random_state=42)),\n",
       "                                                      ('rf',\n",
       "                                                       RandomForestClassifier(random_state=42))],\n",
       "                                          final_estimator=LogisticRegression(max_iter=200,\n",
       "                                                                             solver='liblinear')),\n",
       "             n_jobs=-1,\n",
       "             param_grid={'final_estimator__C': [0.1, 1, 10],\n",
       "                         'gb__learning_rate': [0.01, 0.1],\n",
       "                         'gb__n_estimators': [50, 100],\n",
       "                         'rf__max_depth': [None, 10, 20],\n",
       "                         'rf__n_estimators': [50, 100]},\n",
       "             scoring='accuracy')"
      ]
     },
     "execution_count": 32,
     "metadata": {},
     "output_type": "execute_result"
    }
   ],
   "source": [
    "grid_search.fit(X_train, y_train)"
   ]
  },
  {
   "cell_type": "markdown",
   "id": "e0f89a6e",
   "metadata": {},
   "source": [
    "# Predict and evaluate"
   ]
  },
  {
   "cell_type": "code",
   "execution_count": 33,
   "id": "97f08923",
   "metadata": {
    "execution": {
     "iopub.execute_input": "2024-10-20T11:14:58.633814Z",
     "iopub.status.busy": "2024-10-20T11:14:58.632776Z",
     "iopub.status.idle": "2024-10-20T11:14:58.673096Z",
     "shell.execute_reply": "2024-10-20T11:14:58.671622Z"
    },
    "papermill": {
     "duration": 0.064505,
     "end_time": "2024-10-20T11:14:58.676258",
     "exception": false,
     "start_time": "2024-10-20T11:14:58.611753",
     "status": "completed"
    },
    "tags": []
   },
   "outputs": [
    {
     "name": "stdout",
     "output_type": "stream",
     "text": [
      "Best model accuracy: 0.9655\n",
      "Best parameters: {'final_estimator__C': 10, 'gb__learning_rate': 0.01, 'gb__n_estimators': 50, 'rf__max_depth': 20, 'rf__n_estimators': 100}\n"
     ]
    }
   ],
   "source": [
    "best_stacking_clf = grid_search.best_estimator_\n",
    "y_pred = best_stacking_clf.predict(X_test)\n",
    "\n",
    "accuracy = accuracy_score(y_test, y_pred)\n",
    "print(f\"Best model accuracy: {accuracy:.4f}\")\n",
    "print(f\"Best parameters: {grid_search.best_params_}\")"
   ]
  },
  {
   "cell_type": "code",
   "execution_count": 34,
   "id": "6ac0d9a7",
   "metadata": {
    "execution": {
     "iopub.execute_input": "2024-10-20T11:14:58.717059Z",
     "iopub.status.busy": "2024-10-20T11:14:58.716652Z",
     "iopub.status.idle": "2024-10-20T11:14:58.738578Z",
     "shell.execute_reply": "2024-10-20T11:14:58.737564Z"
    },
    "papermill": {
     "duration": 0.045714,
     "end_time": "2024-10-20T11:14:58.741524",
     "exception": false,
     "start_time": "2024-10-20T11:14:58.695810",
     "status": "completed"
    },
    "tags": []
   },
   "outputs": [],
   "source": [
    "# scaling\n",
    "\n",
    "y = to_categorical(y)\n",
    "\n",
    "X_train, X_test, y_train, y_test = train_test_split(X, y, test_size=0.2, random_state=42)\n",
    "\n",
    "scaler = StandardScaler()\n",
    "X_train = scaler.fit_transform(X_train)\n",
    "X_test = scaler.transform(X_test)"
   ]
  },
  {
   "cell_type": "code",
   "execution_count": 35,
   "id": "bdd4ffda",
   "metadata": {
    "execution": {
     "iopub.execute_input": "2024-10-20T11:14:58.784594Z",
     "iopub.status.busy": "2024-10-20T11:14:58.784117Z",
     "iopub.status.idle": "2024-10-20T11:15:02.942178Z",
     "shell.execute_reply": "2024-10-20T11:15:02.940975Z"
    },
    "papermill": {
     "duration": 4.183943,
     "end_time": "2024-10-20T11:15:02.944920",
     "exception": false,
     "start_time": "2024-10-20T11:14:58.760977",
     "status": "completed"
    },
    "tags": []
   },
   "outputs": [
    {
     "name": "stdout",
     "output_type": "stream",
     "text": [
      "WARNING:tensorflow:From C:\\Users\\CompuStar\\anaconda3\\Lib\\site-packages\\keras\\src\\backend.py:873: The name tf.get_default_graph is deprecated. Please use tf.compat.v1.get_default_graph instead.\n",
      "\n",
      "WARNING:tensorflow:From C:\\Users\\CompuStar\\anaconda3\\Lib\\site-packages\\keras\\src\\optimizers\\__init__.py:309: The name tf.train.Optimizer is deprecated. Please use tf.compat.v1.train.Optimizer instead.\n",
      "\n",
      "Epoch 1/120\n",
      "WARNING:tensorflow:From C:\\Users\\CompuStar\\anaconda3\\Lib\\site-packages\\keras\\src\\utils\\tf_utils.py:492: The name tf.ragged.RaggedTensorValue is deprecated. Please use tf.compat.v1.ragged.RaggedTensorValue instead.\n",
      "\n",
      "WARNING:tensorflow:From C:\\Users\\CompuStar\\anaconda3\\Lib\\site-packages\\keras\\src\\engine\\base_layer_utils.py:384: The name tf.executing_eagerly_outside_functions is deprecated. Please use tf.compat.v1.executing_eagerly_outside_functions instead.\n",
      "\n",
      "73/73 [==============================] - 2s 7ms/step - loss: 1.3590 - accuracy: 0.4700 - val_loss: 1.1575 - val_accuracy: 0.6028\n",
      "Epoch 2/120\n",
      "73/73 [==============================] - 0s 3ms/step - loss: 0.9386 - accuracy: 0.6985 - val_loss: 0.8408 - val_accuracy: 0.7064\n",
      "Epoch 3/120\n",
      "73/73 [==============================] - 0s 3ms/step - loss: 0.6985 - accuracy: 0.7732 - val_loss: 0.7018 - val_accuracy: 0.7668\n",
      "Epoch 4/120\n",
      "73/73 [==============================] - 0s 3ms/step - loss: 0.5791 - accuracy: 0.8030 - val_loss: 0.6065 - val_accuracy: 0.7772\n",
      "Epoch 5/120\n",
      "73/73 [==============================] - 0s 2ms/step - loss: 0.5053 - accuracy: 0.8263 - val_loss: 0.5475 - val_accuracy: 0.8083\n",
      "Epoch 6/120\n",
      "73/73 [==============================] - 0s 3ms/step - loss: 0.4522 - accuracy: 0.8441 - val_loss: 0.4977 - val_accuracy: 0.8307\n",
      "Epoch 7/120\n",
      "73/73 [==============================] - 0s 3ms/step - loss: 0.4116 - accuracy: 0.8644 - val_loss: 0.4635 - val_accuracy: 0.8428\n",
      "Epoch 8/120\n",
      "73/73 [==============================] - 0s 2ms/step - loss: 0.3767 - accuracy: 0.8799 - val_loss: 0.4328 - val_accuracy: 0.8566\n",
      "Epoch 9/120\n",
      "73/73 [==============================] - 0s 2ms/step - loss: 0.3488 - accuracy: 0.8864 - val_loss: 0.4115 - val_accuracy: 0.8584\n",
      "Epoch 10/120\n",
      "73/73 [==============================] - 0s 3ms/step - loss: 0.3253 - accuracy: 0.8950 - val_loss: 0.3916 - val_accuracy: 0.8653\n",
      "Epoch 11/120\n",
      "73/73 [==============================] - 0s 3ms/step - loss: 0.3015 - accuracy: 0.9058 - val_loss: 0.3705 - val_accuracy: 0.8756\n",
      "Epoch 12/120\n",
      "73/73 [==============================] - 0s 3ms/step - loss: 0.2832 - accuracy: 0.9076 - val_loss: 0.3591 - val_accuracy: 0.8791\n",
      "Epoch 13/120\n",
      "73/73 [==============================] - 0s 2ms/step - loss: 0.2619 - accuracy: 0.9235 - val_loss: 0.3414 - val_accuracy: 0.8964\n",
      "Epoch 14/120\n",
      "73/73 [==============================] - 0s 2ms/step - loss: 0.2464 - accuracy: 0.9266 - val_loss: 0.3277 - val_accuracy: 0.8981\n",
      "Epoch 15/120\n",
      "73/73 [==============================] - 0s 3ms/step - loss: 0.2344 - accuracy: 0.9305 - val_loss: 0.3181 - val_accuracy: 0.9033\n",
      "Epoch 16/120\n",
      "73/73 [==============================] - 0s 3ms/step - loss: 0.2215 - accuracy: 0.9361 - val_loss: 0.3089 - val_accuracy: 0.9067\n",
      "Epoch 17/120\n",
      "73/73 [==============================] - 0s 3ms/step - loss: 0.2110 - accuracy: 0.9404 - val_loss: 0.2978 - val_accuracy: 0.9085\n",
      "Epoch 18/120\n",
      "73/73 [==============================] - 0s 2ms/step - loss: 0.1974 - accuracy: 0.9443 - val_loss: 0.2932 - val_accuracy: 0.9171\n",
      "Epoch 19/120\n",
      "73/73 [==============================] - 0s 3ms/step - loss: 0.1880 - accuracy: 0.9464 - val_loss: 0.2805 - val_accuracy: 0.9206\n",
      "Epoch 20/120\n",
      "73/73 [==============================] - 0s 3ms/step - loss: 0.1798 - accuracy: 0.9499 - val_loss: 0.2754 - val_accuracy: 0.9240\n",
      "Epoch 21/120\n",
      "73/73 [==============================] - 0s 3ms/step - loss: 0.1719 - accuracy: 0.9495 - val_loss: 0.2645 - val_accuracy: 0.9188\n",
      "Epoch 22/120\n",
      "73/73 [==============================] - 0s 2ms/step - loss: 0.1633 - accuracy: 0.9546 - val_loss: 0.2577 - val_accuracy: 0.9257\n",
      "Epoch 23/120\n",
      "73/73 [==============================] - 0s 2ms/step - loss: 0.1595 - accuracy: 0.9559 - val_loss: 0.2515 - val_accuracy: 0.9257\n",
      "Epoch 24/120\n",
      "73/73 [==============================] - 0s 2ms/step - loss: 0.1515 - accuracy: 0.9581 - val_loss: 0.2514 - val_accuracy: 0.9257\n",
      "Epoch 25/120\n",
      "73/73 [==============================] - 0s 3ms/step - loss: 0.1460 - accuracy: 0.9590 - val_loss: 0.2424 - val_accuracy: 0.9275\n",
      "Epoch 26/120\n",
      "73/73 [==============================] - 0s 3ms/step - loss: 0.1383 - accuracy: 0.9603 - val_loss: 0.2412 - val_accuracy: 0.9326\n",
      "Epoch 27/120\n",
      "73/73 [==============================] - 0s 2ms/step - loss: 0.1337 - accuracy: 0.9624 - val_loss: 0.2294 - val_accuracy: 0.9275\n",
      "Epoch 28/120\n",
      "73/73 [==============================] - 0s 3ms/step - loss: 0.1287 - accuracy: 0.9633 - val_loss: 0.2295 - val_accuracy: 0.9292\n",
      "Epoch 29/120\n",
      "73/73 [==============================] - 0s 3ms/step - loss: 0.1239 - accuracy: 0.9685 - val_loss: 0.2211 - val_accuracy: 0.9361\n",
      "Epoch 30/120\n",
      "73/73 [==============================] - 0s 3ms/step - loss: 0.1174 - accuracy: 0.9663 - val_loss: 0.2255 - val_accuracy: 0.9309\n",
      "Epoch 31/120\n",
      "73/73 [==============================] - 0s 2ms/step - loss: 0.1161 - accuracy: 0.9685 - val_loss: 0.2137 - val_accuracy: 0.9326\n",
      "Epoch 32/120\n",
      "73/73 [==============================] - 0s 2ms/step - loss: 0.1098 - accuracy: 0.9702 - val_loss: 0.2142 - val_accuracy: 0.9378\n",
      "Epoch 33/120\n",
      "73/73 [==============================] - 0s 3ms/step - loss: 0.1056 - accuracy: 0.9693 - val_loss: 0.2054 - val_accuracy: 0.9413\n",
      "Epoch 34/120\n",
      "73/73 [==============================] - 0s 2ms/step - loss: 0.1011 - accuracy: 0.9741 - val_loss: 0.2022 - val_accuracy: 0.9430\n",
      "Epoch 35/120\n",
      "73/73 [==============================] - 0s 3ms/step - loss: 0.0985 - accuracy: 0.9728 - val_loss: 0.2034 - val_accuracy: 0.9344\n",
      "Epoch 36/120\n",
      "73/73 [==============================] - 0s 3ms/step - loss: 0.0945 - accuracy: 0.9732 - val_loss: 0.2010 - val_accuracy: 0.9396\n",
      "Epoch 37/120\n",
      "73/73 [==============================] - 0s 3ms/step - loss: 0.0894 - accuracy: 0.9771 - val_loss: 0.1933 - val_accuracy: 0.9465\n",
      "Epoch 38/120\n",
      "73/73 [==============================] - 0s 3ms/step - loss: 0.0881 - accuracy: 0.9745 - val_loss: 0.1952 - val_accuracy: 0.9413\n",
      "Epoch 39/120\n",
      "73/73 [==============================] - 0s 2ms/step - loss: 0.0822 - accuracy: 0.9788 - val_loss: 0.1953 - val_accuracy: 0.9447\n",
      "Epoch 40/120\n",
      "73/73 [==============================] - 0s 2ms/step - loss: 0.0801 - accuracy: 0.9784 - val_loss: 0.1857 - val_accuracy: 0.9447\n",
      "Epoch 41/120\n",
      "73/73 [==============================] - 0s 2ms/step - loss: 0.0769 - accuracy: 0.9801 - val_loss: 0.1828 - val_accuracy: 0.9430\n",
      "Epoch 42/120\n",
      "73/73 [==============================] - 0s 2ms/step - loss: 0.0742 - accuracy: 0.9819 - val_loss: 0.1853 - val_accuracy: 0.9482\n",
      "Epoch 43/120\n",
      "73/73 [==============================] - 0s 3ms/step - loss: 0.0716 - accuracy: 0.9832 - val_loss: 0.1847 - val_accuracy: 0.9413\n",
      "Epoch 44/120\n",
      "73/73 [==============================] - 0s 3ms/step - loss: 0.0697 - accuracy: 0.9814 - val_loss: 0.1803 - val_accuracy: 0.9482\n",
      "Epoch 45/120\n",
      "73/73 [==============================] - 0s 2ms/step - loss: 0.0659 - accuracy: 0.9823 - val_loss: 0.1782 - val_accuracy: 0.9447\n",
      "Epoch 46/120\n",
      "73/73 [==============================] - 0s 2ms/step - loss: 0.0626 - accuracy: 0.9857 - val_loss: 0.1814 - val_accuracy: 0.9465\n",
      "Epoch 47/120\n",
      "73/73 [==============================] - 0s 3ms/step - loss: 0.0627 - accuracy: 0.9844 - val_loss: 0.1714 - val_accuracy: 0.9516\n",
      "Epoch 48/120\n",
      "73/73 [==============================] - 0s 2ms/step - loss: 0.0586 - accuracy: 0.9844 - val_loss: 0.1782 - val_accuracy: 0.9499\n",
      "Epoch 49/120\n",
      "73/73 [==============================] - 0s 3ms/step - loss: 0.0578 - accuracy: 0.9862 - val_loss: 0.1733 - val_accuracy: 0.9465\n",
      "Epoch 50/120\n",
      "73/73 [==============================] - 0s 3ms/step - loss: 0.0553 - accuracy: 0.9875 - val_loss: 0.1756 - val_accuracy: 0.9482\n",
      "Epoch 51/120\n",
      "73/73 [==============================] - 0s 2ms/step - loss: 0.0536 - accuracy: 0.9849 - val_loss: 0.1730 - val_accuracy: 0.9465\n",
      "Epoch 52/120\n",
      "73/73 [==============================] - 0s 3ms/step - loss: 0.0523 - accuracy: 0.9866 - val_loss: 0.1780 - val_accuracy: 0.9499\n"
     ]
    },
    {
     "name": "stdout",
     "output_type": "stream",
     "text": [
      "Epoch 53/120\n",
      "73/73 [==============================] - 0s 2ms/step - loss: 0.0510 - accuracy: 0.9857 - val_loss: 0.1748 - val_accuracy: 0.9534\n",
      "Epoch 54/120\n",
      "73/73 [==============================] - 0s 3ms/step - loss: 0.0486 - accuracy: 0.9870 - val_loss: 0.1700 - val_accuracy: 0.9482\n",
      "Epoch 55/120\n",
      "73/73 [==============================] - 0s 3ms/step - loss: 0.0482 - accuracy: 0.9870 - val_loss: 0.1644 - val_accuracy: 0.9551\n",
      "Epoch 56/120\n",
      "73/73 [==============================] - 0s 3ms/step - loss: 0.0449 - accuracy: 0.9888 - val_loss: 0.1723 - val_accuracy: 0.9516\n",
      "Epoch 57/120\n",
      "73/73 [==============================] - 0s 2ms/step - loss: 0.0441 - accuracy: 0.9888 - val_loss: 0.1692 - val_accuracy: 0.9499\n",
      "Epoch 58/120\n",
      "73/73 [==============================] - 0s 2ms/step - loss: 0.0425 - accuracy: 0.9896 - val_loss: 0.1806 - val_accuracy: 0.9516\n",
      "Epoch 59/120\n",
      "73/73 [==============================] - 0s 2ms/step - loss: 0.0412 - accuracy: 0.9896 - val_loss: 0.1684 - val_accuracy: 0.9568\n",
      "Epoch 60/120\n",
      "73/73 [==============================] - 0s 3ms/step - loss: 0.0391 - accuracy: 0.9901 - val_loss: 0.1703 - val_accuracy: 0.9499\n",
      "Epoch 61/120\n",
      "73/73 [==============================] - 0s 2ms/step - loss: 0.0380 - accuracy: 0.9909 - val_loss: 0.1733 - val_accuracy: 0.9568\n",
      "Epoch 62/120\n",
      "73/73 [==============================] - 0s 2ms/step - loss: 0.0367 - accuracy: 0.9901 - val_loss: 0.1799 - val_accuracy: 0.9516\n",
      "Epoch 63/120\n",
      "73/73 [==============================] - 0s 3ms/step - loss: 0.0397 - accuracy: 0.9870 - val_loss: 0.1630 - val_accuracy: 0.9551\n",
      "Epoch 64/120\n",
      "73/73 [==============================] - 0s 2ms/step - loss: 0.0344 - accuracy: 0.9922 - val_loss: 0.1655 - val_accuracy: 0.9585\n",
      "Epoch 65/120\n",
      "73/73 [==============================] - 0s 2ms/step - loss: 0.0346 - accuracy: 0.9931 - val_loss: 0.1714 - val_accuracy: 0.9534\n",
      "Epoch 66/120\n",
      "73/73 [==============================] - 0s 2ms/step - loss: 0.0321 - accuracy: 0.9918 - val_loss: 0.1617 - val_accuracy: 0.9585\n",
      "Epoch 67/120\n",
      "73/73 [==============================] - 0s 2ms/step - loss: 0.0313 - accuracy: 0.9927 - val_loss: 0.1710 - val_accuracy: 0.9585\n",
      "Epoch 68/120\n",
      "73/73 [==============================] - 0s 2ms/step - loss: 0.0291 - accuracy: 0.9940 - val_loss: 0.1644 - val_accuracy: 0.9568\n",
      "Epoch 69/120\n",
      "73/73 [==============================] - 0s 2ms/step - loss: 0.0302 - accuracy: 0.9918 - val_loss: 0.1605 - val_accuracy: 0.9620\n",
      "Epoch 70/120\n",
      "73/73 [==============================] - 0s 2ms/step - loss: 0.0275 - accuracy: 0.9940 - val_loss: 0.1641 - val_accuracy: 0.9585\n",
      "Epoch 71/120\n",
      "73/73 [==============================] - 0s 2ms/step - loss: 0.0267 - accuracy: 0.9944 - val_loss: 0.1708 - val_accuracy: 0.9534\n",
      "Epoch 72/120\n",
      "73/73 [==============================] - 0s 3ms/step - loss: 0.0268 - accuracy: 0.9931 - val_loss: 0.1674 - val_accuracy: 0.9516\n",
      "Epoch 73/120\n",
      "73/73 [==============================] - 0s 3ms/step - loss: 0.0266 - accuracy: 0.9931 - val_loss: 0.1673 - val_accuracy: 0.9534\n",
      "Epoch 74/120\n",
      "73/73 [==============================] - 0s 3ms/step - loss: 0.0266 - accuracy: 0.9922 - val_loss: 0.1779 - val_accuracy: 0.9620\n",
      "Epoch 75/120\n",
      "73/73 [==============================] - 0s 2ms/step - loss: 0.0246 - accuracy: 0.9935 - val_loss: 0.1812 - val_accuracy: 0.9603\n",
      "Epoch 76/120\n",
      "73/73 [==============================] - 0s 2ms/step - loss: 0.0235 - accuracy: 0.9952 - val_loss: 0.1808 - val_accuracy: 0.9551\n",
      "Epoch 77/120\n",
      "73/73 [==============================] - 0s 2ms/step - loss: 0.0239 - accuracy: 0.9944 - val_loss: 0.1750 - val_accuracy: 0.9585\n",
      "Epoch 78/120\n",
      "73/73 [==============================] - 0s 3ms/step - loss: 0.0226 - accuracy: 0.9948 - val_loss: 0.1915 - val_accuracy: 0.9551\n",
      "Epoch 79/120\n",
      "73/73 [==============================] - 0s 3ms/step - loss: 0.0219 - accuracy: 0.9935 - val_loss: 0.1991 - val_accuracy: 0.9603\n",
      "Epoch 80/120\n",
      "73/73 [==============================] - 0s 3ms/step - loss: 0.0211 - accuracy: 0.9948 - val_loss: 0.1952 - val_accuracy: 0.9603\n",
      "Epoch 81/120\n",
      "73/73 [==============================] - 0s 2ms/step - loss: 0.0201 - accuracy: 0.9948 - val_loss: 0.1856 - val_accuracy: 0.9585\n",
      "Epoch 82/120\n",
      "73/73 [==============================] - 0s 3ms/step - loss: 0.0200 - accuracy: 0.9948 - val_loss: 0.1786 - val_accuracy: 0.9482\n",
      "Epoch 83/120\n",
      "73/73 [==============================] - 0s 2ms/step - loss: 0.0231 - accuracy: 0.9935 - val_loss: 0.1732 - val_accuracy: 0.9568\n",
      "Epoch 84/120\n",
      "73/73 [==============================] - 0s 3ms/step - loss: 0.0190 - accuracy: 0.9940 - val_loss: 0.1870 - val_accuracy: 0.9603\n",
      "Epoch 85/120\n",
      "73/73 [==============================] - 0s 2ms/step - loss: 0.0188 - accuracy: 0.9957 - val_loss: 0.1775 - val_accuracy: 0.9551\n",
      "Epoch 86/120\n",
      "73/73 [==============================] - 0s 2ms/step - loss: 0.0176 - accuracy: 0.9944 - val_loss: 0.1859 - val_accuracy: 0.9603\n",
      "Epoch 87/120\n",
      "73/73 [==============================] - 0s 3ms/step - loss: 0.0173 - accuracy: 0.9944 - val_loss: 0.1792 - val_accuracy: 0.9585\n",
      "Epoch 88/120\n",
      "73/73 [==============================] - 0s 2ms/step - loss: 0.0166 - accuracy: 0.9952 - val_loss: 0.1851 - val_accuracy: 0.9637\n",
      "Epoch 89/120\n",
      "73/73 [==============================] - 0s 2ms/step - loss: 0.0166 - accuracy: 0.9952 - val_loss: 0.2036 - val_accuracy: 0.9551\n",
      "Epoch 90/120\n",
      "73/73 [==============================] - 0s 2ms/step - loss: 0.0168 - accuracy: 0.9944 - val_loss: 0.1994 - val_accuracy: 0.9620\n",
      "Epoch 91/120\n",
      "73/73 [==============================] - 0s 2ms/step - loss: 0.0169 - accuracy: 0.9944 - val_loss: 0.1971 - val_accuracy: 0.9568\n",
      "Epoch 92/120\n",
      "73/73 [==============================] - 0s 3ms/step - loss: 0.0164 - accuracy: 0.9957 - val_loss: 0.1834 - val_accuracy: 0.9603\n",
      "Epoch 93/120\n",
      "73/73 [==============================] - 0s 3ms/step - loss: 0.0149 - accuracy: 0.9948 - val_loss: 0.1903 - val_accuracy: 0.9568\n",
      "Epoch 94/120\n",
      "73/73 [==============================] - 0s 3ms/step - loss: 0.0142 - accuracy: 0.9952 - val_loss: 0.2120 - val_accuracy: 0.9603\n",
      "Epoch 95/120\n",
      "73/73 [==============================] - 0s 2ms/step - loss: 0.0147 - accuracy: 0.9957 - val_loss: 0.2043 - val_accuracy: 0.9603\n",
      "Epoch 96/120\n",
      "73/73 [==============================] - 0s 2ms/step - loss: 0.0135 - accuracy: 0.9961 - val_loss: 0.2113 - val_accuracy: 0.9620\n",
      "Epoch 97/120\n",
      "73/73 [==============================] - 0s 2ms/step - loss: 0.0136 - accuracy: 0.9957 - val_loss: 0.2066 - val_accuracy: 0.9603\n",
      "Epoch 98/120\n",
      "73/73 [==============================] - 0s 3ms/step - loss: 0.0137 - accuracy: 0.9952 - val_loss: 0.2259 - val_accuracy: 0.9585\n",
      "Epoch 99/120\n",
      "73/73 [==============================] - 0s 3ms/step - loss: 0.0138 - accuracy: 0.9940 - val_loss: 0.2019 - val_accuracy: 0.9603\n",
      "Epoch 100/120\n",
      "73/73 [==============================] - 0s 3ms/step - loss: 0.0137 - accuracy: 0.9952 - val_loss: 0.2153 - val_accuracy: 0.9585\n",
      "Epoch 101/120\n",
      "73/73 [==============================] - 0s 3ms/step - loss: 0.0127 - accuracy: 0.9961 - val_loss: 0.2085 - val_accuracy: 0.9620\n",
      "Epoch 102/120\n",
      "73/73 [==============================] - 0s 2ms/step - loss: 0.0133 - accuracy: 0.9948 - val_loss: 0.1865 - val_accuracy: 0.9603\n",
      "Epoch 103/120\n",
      "73/73 [==============================] - 0s 2ms/step - loss: 0.0129 - accuracy: 0.9952 - val_loss: 0.1988 - val_accuracy: 0.9534\n",
      "Epoch 104/120\n",
      "73/73 [==============================] - 0s 3ms/step - loss: 0.0120 - accuracy: 0.9970 - val_loss: 0.2096 - val_accuracy: 0.9637\n",
      "Epoch 105/120\n",
      "73/73 [==============================] - 0s 2ms/step - loss: 0.0113 - accuracy: 0.9965 - val_loss: 0.2023 - val_accuracy: 0.9603\n",
      "Epoch 106/120\n",
      "73/73 [==============================] - 0s 3ms/step - loss: 0.0115 - accuracy: 0.9957 - val_loss: 0.2077 - val_accuracy: 0.9585\n",
      "Epoch 107/120\n",
      "73/73 [==============================] - 0s 2ms/step - loss: 0.0139 - accuracy: 0.9961 - val_loss: 0.2357 - val_accuracy: 0.9551\n",
      "Epoch 108/120\n",
      "73/73 [==============================] - 0s 2ms/step - loss: 0.0123 - accuracy: 0.9948 - val_loss: 0.2257 - val_accuracy: 0.9585\n",
      "Epoch 109/120\n",
      "73/73 [==============================] - 0s 2ms/step - loss: 0.0132 - accuracy: 0.9961 - val_loss: 0.2419 - val_accuracy: 0.9585\n",
      "Epoch 110/120\n"
     ]
    },
    {
     "name": "stdout",
     "output_type": "stream",
     "text": [
      "73/73 [==============================] - 0s 2ms/step - loss: 0.0123 - accuracy: 0.9952 - val_loss: 0.2020 - val_accuracy: 0.9603\n",
      "Epoch 111/120\n",
      "73/73 [==============================] - 0s 2ms/step - loss: 0.0108 - accuracy: 0.9970 - val_loss: 0.2090 - val_accuracy: 0.9551\n",
      "Epoch 112/120\n",
      "73/73 [==============================] - 0s 3ms/step - loss: 0.0118 - accuracy: 0.9957 - val_loss: 0.2190 - val_accuracy: 0.9603\n",
      "Epoch 113/120\n",
      "73/73 [==============================] - 0s 3ms/step - loss: 0.0098 - accuracy: 0.9978 - val_loss: 0.2148 - val_accuracy: 0.9568\n",
      "Epoch 114/120\n",
      "73/73 [==============================] - 0s 2ms/step - loss: 0.0104 - accuracy: 0.9970 - val_loss: 0.2149 - val_accuracy: 0.9603\n",
      "Epoch 115/120\n",
      "73/73 [==============================] - 0s 2ms/step - loss: 0.0103 - accuracy: 0.9970 - val_loss: 0.2101 - val_accuracy: 0.9603\n",
      "Epoch 116/120\n",
      "73/73 [==============================] - 0s 2ms/step - loss: 0.0107 - accuracy: 0.9965 - val_loss: 0.2060 - val_accuracy: 0.9516\n",
      "Epoch 117/120\n",
      "73/73 [==============================] - 0s 2ms/step - loss: 0.0101 - accuracy: 0.9970 - val_loss: 0.2219 - val_accuracy: 0.9585\n",
      "Epoch 118/120\n",
      "73/73 [==============================] - 0s 2ms/step - loss: 0.0096 - accuracy: 0.9965 - val_loss: 0.2055 - val_accuracy: 0.9585\n",
      "Epoch 119/120\n",
      "73/73 [==============================] - 0s 2ms/step - loss: 0.0099 - accuracy: 0.9961 - val_loss: 0.2357 - val_accuracy: 0.9620\n",
      "Epoch 120/120\n",
      "73/73 [==============================] - 0s 2ms/step - loss: 0.0085 - accuracy: 0.9970 - val_loss: 0.2493 - val_accuracy: 0.9620\n"
     ]
    }
   ],
   "source": [
    "# Define the neural network model\n",
    "\n",
    "model = Sequential()\n",
    "model.add(Input(shape=(X_train.shape[1],)))\n",
    "model.add(Dense(64, activation='relu'))\n",
    "model.add(Dense(32, activation='relu'))\n",
    "model.add(Dense(y.shape[1], activation='softmax'))\n",
    "\n",
    "# compiling model\n",
    "model.compile(optimizer='adam', loss='categorical_crossentropy', metrics=['accuracy'])\n",
    "\n",
    "# fitting\n",
    "history = model.fit(X_train, y_train, epochs=120, batch_size=32, validation_data=(X_test, y_test))"
   ]
  },
  {
   "cell_type": "code",
   "execution_count": 36,
   "id": "d7bc2c7e",
   "metadata": {
    "execution": {
     "iopub.execute_input": "2024-10-20T11:15:02.997398Z",
     "iopub.status.busy": "2024-10-20T11:15:02.996981Z",
     "iopub.status.idle": "2024-10-20T11:15:03.219950Z",
     "shell.execute_reply": "2024-10-20T11:15:03.218614Z"
    },
    "papermill": {
     "duration": 0.253038,
     "end_time": "2024-10-20T11:15:03.222643",
     "exception": false,
     "start_time": "2024-10-20T11:15:02.969605",
     "status": "completed"
    },
    "tags": []
   },
   "outputs": [
    {
     "name": "stdout",
     "output_type": "stream",
     "text": [
      "19/19 [==============================] - 0s 1ms/step\n",
      "              precision    recall  f1-score   support\n",
      "\n",
      "           0       1.00      0.78      0.88        86\n",
      "           1       0.89      0.99      0.94       152\n",
      "           2       0.98      0.98      0.98       122\n",
      "           3       0.98      1.00      0.99       126\n",
      "           4       1.00      1.00      1.00        93\n",
      "\n",
      "    accuracy                           0.96       579\n",
      "   macro avg       0.97      0.95      0.96       579\n",
      "weighted avg       0.97      0.96      0.96       579\n",
      "\n",
      "Accuracy: 0.9620034542314335\n"
     ]
    }
   ],
   "source": [
    "# Evaluate the model on test data\n",
    "y_pred_prob = model.predict(X_test)\n",
    "y_pred = y_pred_prob.argmax(axis=1)\n",
    "\n",
    "# Convert y_test back to its original format\n",
    "y_test_original = y_test.argmax(axis=1)\n",
    "\n",
    "# acc\n",
    "print(classification_report(y_test_original, y_pred))\n",
    "print(\"Accuracy:\", accuracy_score(y_test_original, y_pred))"
   ]
  },
  {
   "cell_type": "code",
   "execution_count": 37,
   "id": "51b48e17",
   "metadata": {
    "execution": {
     "iopub.execute_input": "2024-10-20T11:15:03.275415Z",
     "iopub.status.busy": "2024-10-20T11:15:03.274956Z",
     "iopub.status.idle": "2024-10-20T11:15:03.624879Z",
     "shell.execute_reply": "2024-10-20T11:15:03.623574Z"
    },
    "papermill": {
     "duration": 0.379806,
     "end_time": "2024-10-20T11:15:03.627584",
     "exception": false,
     "start_time": "2024-10-20T11:15:03.247778",
     "status": "completed"
    },
    "tags": []
   },
   "outputs": [
    {
     "data": {
      "image/png": "[encoded data removed]",
      "text/plain": [
       "<Figure size 800x600 with 1 Axes>"
      ]
     },
     "metadata": {},
     "output_type": "display_data"
    }
   ],
   "source": [
    "# Plot the training and validation accuracy over epochs\n",
    "\n",
    "plt.figure(figsize=(8, 6))\n",
    "plt.plot(history.history['accuracy'], label='Train Accuracy')\n",
    "plt.plot(history.history['val_accuracy'], label='Validation Accuracy')\n",
    "plt.title('Model Accuracy over Epochs')\n",
    "plt.xlabel('Epochs')\n",
    "plt.ylabel('Accuracy')\n",
    "plt.legend(loc='lower right')\n",
    "plt.show()"
   ]
  },
  {
   "cell_type": "code",
   "execution_count": 38,
   "id": "c4301489",
   "metadata": {},
   "outputs": [
    {
     "data": {
      "text/html": [
       "<style>#sk-container-id-2 {color: black;}#sk-container-id-2 pre{padding: 0;}#sk-container-id-2 div.sk-toggleable {background-color: white;}#sk-container-id-2 label.sk-toggleable__label {cursor: pointer;display: block;width: 100%;margin-bottom: 0;padding: 0.3em;box-sizing: border-box;text-align: center;}#sk-container-id-2 label.sk-toggleable__label-arrow:before {content: \"▸\";float: left;margin-right: 0.25em;color: #696969;}#sk-container-id-2 label.sk-toggleable__label-arrow:hover:before {color: black;}#sk-container-id-2 div.sk-estimator:hover label.sk-toggleable__label-arrow:before {color: black;}#sk-container-id-2 div.sk-toggleable__content {max-height: 0;max-width: 0;overflow: hidden;text-align: left;background-color: #f0f8ff;}#sk-container-id-2 div.sk-toggleable__content pre {margin: 0.2em;color: black;border-radius: 0.25em;background-color: #f0f8ff;}#sk-container-id-2 input.sk-toggleable__control:checked~div.sk-toggleable__content {max-height: 200px;max-width: 100%;overflow: auto;}#sk-container-id-2 input.sk-toggleable__control:checked~label.sk-toggleable__label-arrow:before {content: \"▾\";}#sk-container-id-2 div.sk-estimator input.sk-toggleable__control:checked~label.sk-toggleable__label {background-color: #d4ebff;}#sk-container-id-2 div.sk-label input.sk-toggleable__control:checked~label.sk-toggleable__label {background-color: #d4ebff;}#sk-container-id-2 input.sk-hidden--visually {border: 0;clip: rect(1px 1px 1px 1px);clip: rect(1px, 1px, 1px, 1px);height: 1px;margin: -1px;overflow: hidden;padding: 0;position: absolute;width: 1px;}#sk-container-id-2 div.sk-estimator {font-family: monospace;background-color: #f0f8ff;border: 1px dotted black;border-radius: 0.25em;box-sizing: border-box;margin-bottom: 0.5em;}#sk-container-id-2 div.sk-estimator:hover {background-color: #d4ebff;}#sk-container-id-2 div.sk-parallel-item::after {content: \"\";width: 100%;border-bottom: 1px solid gray;flex-grow: 1;}#sk-container-id-2 div.sk-label:hover label.sk-toggleable__label {background-color: #d4ebff;}#sk-container-id-2 div.sk-serial::before {content: \"\";position: absolute;border-left: 1px solid gray;box-sizing: border-box;top: 0;bottom: 0;left: 50%;z-index: 0;}#sk-container-id-2 div.sk-serial {display: flex;flex-direction: column;align-items: center;background-color: white;padding-right: 0.2em;padding-left: 0.2em;position: relative;}#sk-container-id-2 div.sk-item {position: relative;z-index: 1;}#sk-container-id-2 div.sk-parallel {display: flex;align-items: stretch;justify-content: center;background-color: white;position: relative;}#sk-container-id-2 div.sk-item::before, #sk-container-id-2 div.sk-parallel-item::before {content: \"\";position: absolute;border-left: 1px solid gray;box-sizing: border-box;top: 0;bottom: 0;left: 50%;z-index: -1;}#sk-container-id-2 div.sk-parallel-item {display: flex;flex-direction: column;z-index: 1;position: relative;background-color: white;}#sk-container-id-2 div.sk-parallel-item:first-child::after {align-self: flex-end;width: 50%;}#sk-container-id-2 div.sk-parallel-item:last-child::after {align-self: flex-start;width: 50%;}#sk-container-id-2 div.sk-parallel-item:only-child::after {width: 0;}#sk-container-id-2 div.sk-dashed-wrapped {border: 1px dashed gray;margin: 0 0.4em 0.5em 0.4em;box-sizing: border-box;padding-bottom: 0.4em;background-color: white;}#sk-container-id-2 div.sk-label label {font-family: monospace;font-weight: bold;display: inline-block;line-height: 1.2em;}#sk-container-id-2 div.sk-label-container {text-align: center;}#sk-container-id-2 div.sk-container {/* jupyter's `normalize.less` sets `[hidden] { display: none; }` but bootstrap.min.css set `[hidden] { display: none !important; }` so we also need the `!important` here to be able to override the default hidden behavior on the sphinx rendered scikit-learn.org. See: https://github.com/scikit-learn/scikit-learn/issues/21755 */display: inline-block !important;position: relative;}#sk-container-id-2 div.sk-text-repr-fallback {display: none;}</style><div id=\"sk-container-id-2\" class=\"sk-top-container\"><div class=\"sk-text-repr-fallback\"><pre>KNeighborsClassifier(n_neighbors=1)</pre><b>In a Jupyter environment, please rerun this cell to show the HTML representation or trust the notebook. <br />On GitHub, the HTML representation is unable to render, please try loading this page with nbviewer.org.</b></div><div class=\"sk-container\" hidden><div class=\"sk-item\"><div class=\"sk-estimator sk-toggleable\"><input class=\"sk-toggleable__control sk-hidden--visually\" id=\"sk-estimator-id-6\" type=\"checkbox\" checked><label for=\"sk-estimator-id-6\" class=\"sk-toggleable__label sk-toggleable__label-arrow\">KNeighborsClassifier</label><div class=\"sk-toggleable__content\"><pre>KNeighborsClassifier(n_neighbors=1)</pre></div></div></div></div></div>"
      ],
      "text/plain": [
       "KNeighborsClassifier(n_neighbors=1)"
      ]
     },
     "execution_count": 38,
     "metadata": {},
     "output_type": "execute_result"
    }
   ],
   "source": [
    "from sklearn.neighbors import KNeighborsClassifier\n",
    "k = 1\n",
    "model = KNeighborsClassifier(n_neighbors=k)\n",
    "model.fit(X_train, y_train)"
   ]
  },
  {
   "cell_type": "code",
   "execution_count": 39,
   "id": "2d1edcfe",
   "metadata": {},
   "outputs": [
    {
     "data": {
      "text/plain": [
       "0.9602763385146805"
      ]
     },
     "execution_count": 39,
     "metadata": {},
     "output_type": "execute_result"
    }
   ],
   "source": [
    "model.score(X_test,y_test)"
   ]
  }
 ],
 "metadata": {
  "kaggle": {
   "accelerator": "none",
   "dataSources": [
    {
     "datasetId": 888463,
     "sourceId": 1508992,
     "sourceType": "datasetVersion"
    }
   ],
   "dockerImageVersionId": 30786,
   "isGpuEnabled": false,
   "isInternetEnabled": true,
   "language": "python",
   "sourceType": "notebook"
  },
  "kernelspec": {
   "display_name": "Python 3 (ipykernel)",
   "language": "python",
   "name": "python3"
  },
  "language_info": {
   "codemirror_mode": {
    "name": "ipython",
    "version": 3
   },
   "file_extension": ".py",
   "mimetype": "text/x-python",
   "name": "python",
   "nbconvert_exporter": "python",
   "pygments_lexer": "ipython3",
   "version": "3.11.4"
  },
  "papermill": {
   "default_parameters": {},
   "duration": 1016.827358,
   "end_time": "2024-10-20T11:15:06.328329",
   "environment_variables": {},
   "exception": null,
   "input_path": "__notebook__.ipynb",
   "output_path": "__notebook__.ipynb",
   "parameters": {},
   "start_time": "2024-10-20T10:58:09.500971",
   "version": "2.6.0"
  }
 },
 "nbformat": 4,
 "nbformat_minor": 5
}
